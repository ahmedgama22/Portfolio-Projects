{
  "metadata": {
    "kernelspec": {
      "language": "python",
      "display_name": "Python 3",
      "name": "python3"
    },
    "language_info": {
      "name": "python",
      "version": "3.10.13",
      "mimetype": "text/x-python",
      "codemirror_mode": {
        "name": "ipython",
        "version": 3
      },
      "pygments_lexer": "ipython3",
      "nbconvert_exporter": "python",
      "file_extension": ".py"
    },
    "kaggle": {
      "accelerator": "none",
      "dataSources": [
        {
          "sourceId": 731448,
          "sourceType": "datasetVersion",
          "datasetId": 376751
        }
      ],
      "dockerImageVersionId": 30684,
      "isInternetEnabled": true,
      "language": "python",
      "sourceType": "notebook",
      "isGpuEnabled": false
    },
    "colab": {
      "name": "London Bike Sharing Dataset",
      "provenance": [],
      "include_colab_link": true
    }
  },
  "nbformat_minor": 0,
  "nbformat": 4,
  "cells": [
    {
      "cell_type": "markdown",
      "metadata": {
        "id": "view-in-github",
        "colab_type": "text"
      },
      "source": [
        "<a href=\"https://colab.research.google.com/github/ahmedgama22/Portfolio-Projects/blob/main/London_Bike_Sharing_Dataset.ipynb\" target=\"_parent\"><img src=\"https://colab.research.google.com/assets/colab-badge.svg\" alt=\"Open In Colab\"/></a>"
      ]
    },
    {
      "source": [
        "\n",
        "# IMPORTANT: RUN THIS CELL IN ORDER TO IMPORT YOUR KAGGLE DATA SOURCES\n",
        "# TO THE CORRECT LOCATION (/kaggle/input) IN YOUR NOTEBOOK,\n",
        "# THEN FEEL FREE TO DELETE THIS CELL.\n",
        "# NOTE: THIS NOTEBOOK ENVIRONMENT DIFFERS FROM KAGGLE'S PYTHON\n",
        "# ENVIRONMENT SO THERE MAY BE MISSING LIBRARIES USED BY YOUR\n",
        "# NOTEBOOK.\n",
        "\n",
        "import os\n",
        "import sys\n",
        "from tempfile import NamedTemporaryFile\n",
        "from urllib.request import urlopen\n",
        "from urllib.parse import unquote, urlparse\n",
        "from urllib.error import HTTPError\n",
        "from zipfile import ZipFile\n",
        "import tarfile\n",
        "import shutil\n",
        "\n",
        "CHUNK_SIZE = 40960\n",
        "DATA_SOURCE_MAPPING = 'london-bike-sharing-dataset:https%3A%2F%2Fstorage.googleapis.com%2Fkaggle-data-sets%2F376751%2F731448%2Fbundle%2Farchive.zip%3FX-Goog-Algorithm%3DGOOG4-RSA-SHA256%26X-Goog-Credential%3Dgcp-kaggle-com%2540kaggle-161607.iam.gserviceaccount.com%252F20240508%252Fauto%252Fstorage%252Fgoog4_request%26X-Goog-Date%3D20240508T161944Z%26X-Goog-Expires%3D259200%26X-Goog-SignedHeaders%3Dhost%26X-Goog-Signature%3D4154e03fa130b56bfb868ad72445cd293b2a89f7593118c07e5c08f4ec32c2984a7e524d6047cac70097307e140d4b1d4f93fbdccbf7ef7c806e21c9b60c37f50d875a447fc432e14e6be9bca82e3b36b196cfb3f20a7980249cf166df2aa2089787f543e26ab96943fc07138b214d33e7696b90448f318e8f3adf14fa56af067b36a960bd94ef9c6cb47862520374066e93ac4c526c2e019aec504b19b8c049e8fda5ef16c90cb07f5a3caafb8f54f8d6fe6a8cec333122caf94c9a0fee316349e7ed88e555c3adb39af7540eb873a774993c661bb09bd79ab8f26650612a641c4da3c2f27610729141df587ca59b27655664af502cd5e0359602d71dfb3088'\n",
        "\n",
        "KAGGLE_INPUT_PATH='/kaggle/input'\n",
        "KAGGLE_WORKING_PATH='/kaggle/working'\n",
        "KAGGLE_SYMLINK='kaggle'\n",
        "\n",
        "!umount /kaggle/input/ 2> /dev/null\n",
        "shutil.rmtree('/kaggle/input', ignore_errors=True)\n",
        "os.makedirs(KAGGLE_INPUT_PATH, 0o777, exist_ok=True)\n",
        "os.makedirs(KAGGLE_WORKING_PATH, 0o777, exist_ok=True)\n",
        "\n",
        "try:\n",
        "  os.symlink(KAGGLE_INPUT_PATH, os.path.join(\"..\", 'input'), target_is_directory=True)\n",
        "except FileExistsError:\n",
        "  pass\n",
        "try:\n",
        "  os.symlink(KAGGLE_WORKING_PATH, os.path.join(\"..\", 'working'), target_is_directory=True)\n",
        "except FileExistsError:\n",
        "  pass\n",
        "\n",
        "for data_source_mapping in DATA_SOURCE_MAPPING.split(','):\n",
        "    directory, download_url_encoded = data_source_mapping.split(':')\n",
        "    download_url = unquote(download_url_encoded)\n",
        "    filename = urlparse(download_url).path\n",
        "    destination_path = os.path.join(KAGGLE_INPUT_PATH, directory)\n",
        "    try:\n",
        "        with urlopen(download_url) as fileres, NamedTemporaryFile() as tfile:\n",
        "            total_length = fileres.headers['content-length']\n",
        "            print(f'Downloading {directory}, {total_length} bytes compressed')\n",
        "            dl = 0\n",
        "            data = fileres.read(CHUNK_SIZE)\n",
        "            while len(data) > 0:\n",
        "                dl += len(data)\n",
        "                tfile.write(data)\n",
        "                done = int(50 * dl / int(total_length))\n",
        "                sys.stdout.write(f\"\\r[{'=' * done}{' ' * (50-done)}] {dl} bytes downloaded\")\n",
        "                sys.stdout.flush()\n",
        "                data = fileres.read(CHUNK_SIZE)\n",
        "            if filename.endswith('.zip'):\n",
        "              with ZipFile(tfile) as zfile:\n",
        "                zfile.extractall(destination_path)\n",
        "            else:\n",
        "              with tarfile.open(tfile.name) as tarfile:\n",
        "                tarfile.extractall(destination_path)\n",
        "            print(f'\\nDownloaded and uncompressed: {directory}')\n",
        "    except HTTPError as e:\n",
        "        print(f'Failed to load (likely expired) {download_url} to path {destination_path}')\n",
        "        continue\n",
        "    except OSError as e:\n",
        "        print(f'Failed to load {download_url} to path {destination_path}')\n",
        "        continue\n",
        "\n",
        "print('Data source import complete.')\n"
      ],
      "metadata": {
        "id": "b3_gfiMMAP1e"
      },
      "cell_type": "code",
      "outputs": [],
      "execution_count": null
    },
    {
      "cell_type": "markdown",
      "source": [
        "# About the data:\n",
        "The dataset is on Kaggel ,The data is acquired from 3 sources:\n",
        "\n",
        "Https://cycling.data.tfl.gov.uk/ 'Contains OS data © Crown copyright and database rights 2016' and Geomni UK Map data © and database rights [2019] 'Powered by TfL Open Data'\n",
        "freemeteo.com - weather data\n",
        "https://www.gov.uk/bank-holidays\n",
        "From 1/1/2015 to 31/12/2016\n",
        "The data from cycling dataset is grouped by \"Start time\", this represent the count of new bike shares grouped by hour. The long duration shares are not taken in the count.\n",
        "\n",
        "Metadata:\n",
        "\"timestamp\" - timestamp field for grouping the data\n",
        "\"cnt\" - the count of a new bike shares\n",
        "\"t1\" - real temperature in C\n",
        "\"t2\" - temperature in C \"feels like\"\n",
        "\"hum\" - humidity in percentage\n",
        "\"wind_speed\" - wind speed in km/h\n",
        "\"weather_code\" - category of the weather\n",
        "\"is_holiday\" - boolean field - 1 holiday / 0 non holiday\n",
        "\"is_weekend\" - boolean field - 1 if the day is weekend\n",
        "\"season\" - category field meteorological seasons: 0-spring ; 1-summer; 2-fall; 3-winter.\n",
        "\n",
        "\"weathe_code\" category description:\n",
        "1 = Clear ; mostly clear but have some values with haze/fog/patches of fog/ fog in vicinity 2 = scattered clouds / few clouds 3 = Broken clouds 4 = Cloudy 7 = Rain/ light Rain shower/ Light rain 10 = rain with thunderstorm 26 = snowfall 94 = Freezing Fog\n"
      ],
      "metadata": {
        "id": "UKxWkT_xAP1k"
      }
    },
    {
      "cell_type": "markdown",
      "source": [
        "# Importing Packages:"
      ],
      "metadata": {
        "id": "3DKJAryPAP1n"
      }
    },
    {
      "cell_type": "code",
      "source": [
        "# This Python 3 environment comes with many helpful analytics libraries installed\n",
        "# It is defined by the kaggle/python Docker image: https://github.com/kaggle/docker-python\n",
        "# For example, here's several helpful packages to load\n",
        "\n",
        "import numpy as np # linear algebra\n",
        "import pandas as pd # data processing, CSV file I/O (e.g. pd.read_csv)\n",
        "\n",
        "# Input data files are available in the read-only \"../input/\" directory\n",
        "# For example, running this (by clicking run or pressing Shift+Enter) will list all files under the input directory\n",
        "\n",
        "import os\n",
        "for dirname, _, filenames in os.walk('/kaggle/input'):\n",
        "    for filename in filenames:\n",
        "        print(os.path.join(dirname, filename))\n",
        "\n",
        "# You can write up to 20GB to the current directory (/kaggle/working/) that gets preserved as output when you create a version using \"Save & Run All\"\n",
        "# You can also write temporary files to /kaggle/temp/, but they won't be saved outside of the current session"
      ],
      "metadata": {
        "_uuid": "8f2839f25d086af736a60e9eeb907d3b93b6e0e5",
        "_cell_guid": "b1076dfc-b9ad-4769-8c92-a6c4dae69d19",
        "execution": {
          "iopub.status.busy": "2024-05-08T16:06:15.976394Z",
          "iopub.execute_input": "2024-05-08T16:06:15.976776Z",
          "iopub.status.idle": "2024-05-08T16:06:17.041151Z",
          "shell.execute_reply.started": "2024-05-08T16:06:15.976745Z",
          "shell.execute_reply": "2024-05-08T16:06:17.040063Z"
        },
        "trusted": true,
        "id": "Y4eAQxaoAP1o",
        "outputId": "b39303e2-7950-47b7-9957-4fce080cd5b9"
      },
      "execution_count": null,
      "outputs": [
        {
          "name": "stdout",
          "text": "/kaggle/input/london-bike-sharing-dataset/london_merged.csv\n",
          "output_type": "stream"
        }
      ]
    },
    {
      "cell_type": "code",
      "source": [
        "import pandas as pd\n",
        "import seaborn as sns\n",
        "import matplotlib.pyplot as plt\n",
        "import warnings\n",
        "warnings.filterwarnings('ignore')"
      ],
      "metadata": {
        "execution": {
          "iopub.status.busy": "2024-05-08T16:06:17.043168Z",
          "iopub.execute_input": "2024-05-08T16:06:17.043733Z",
          "iopub.status.idle": "2024-05-08T16:06:18.368577Z",
          "shell.execute_reply.started": "2024-05-08T16:06:17.043695Z",
          "shell.execute_reply": "2024-05-08T16:06:18.367327Z"
        },
        "trusted": true,
        "id": "MLg2O10CAP1q"
      },
      "execution_count": null,
      "outputs": []
    },
    {
      "cell_type": "markdown",
      "source": [
        "# Reading the dataset:"
      ],
      "metadata": {
        "id": "W0c0LVQRAP1r"
      }
    },
    {
      "cell_type": "code",
      "source": [
        "df=pd.read_csv('/kaggle/input/london-bike-sharing-dataset/london_merged.csv')"
      ],
      "metadata": {
        "execution": {
          "iopub.status.busy": "2024-05-08T16:06:18.369703Z",
          "iopub.execute_input": "2024-05-08T16:06:18.370649Z",
          "iopub.status.idle": "2024-05-08T16:06:18.427833Z",
          "shell.execute_reply.started": "2024-05-08T16:06:18.370619Z",
          "shell.execute_reply": "2024-05-08T16:06:18.426958Z"
        },
        "trusted": true,
        "id": "j8xOVkzoAP1s"
      },
      "execution_count": null,
      "outputs": []
    },
    {
      "cell_type": "markdown",
      "source": [
        "# Exploring and Manipulating the data:"
      ],
      "metadata": {
        "id": "gbGgt4DgAP1s"
      }
    },
    {
      "cell_type": "code",
      "source": [
        "df.info()"
      ],
      "metadata": {
        "execution": {
          "iopub.status.busy": "2024-05-08T16:06:18.430052Z",
          "iopub.execute_input": "2024-05-08T16:06:18.43036Z",
          "iopub.status.idle": "2024-05-08T16:06:18.459761Z",
          "shell.execute_reply.started": "2024-05-08T16:06:18.430334Z",
          "shell.execute_reply": "2024-05-08T16:06:18.459029Z"
        },
        "trusted": true,
        "id": "gk2owOzzAP1t",
        "outputId": "bc485c77-f0c0-4896-dcb0-1dc8153ef71b"
      },
      "execution_count": null,
      "outputs": [
        {
          "name": "stdout",
          "text": "<class 'pandas.core.frame.DataFrame'>\nRangeIndex: 17414 entries, 0 to 17413\nData columns (total 10 columns):\n #   Column        Non-Null Count  Dtype  \n---  ------        --------------  -----  \n 0   timestamp     17414 non-null  object \n 1   cnt           17414 non-null  int64  \n 2   t1            17414 non-null  float64\n 3   t2            17414 non-null  float64\n 4   hum           17414 non-null  float64\n 5   wind_speed    17414 non-null  float64\n 6   weather_code  17414 non-null  float64\n 7   is_holiday    17414 non-null  float64\n 8   is_weekend    17414 non-null  float64\n 9   season        17414 non-null  float64\ndtypes: float64(8), int64(1), object(1)\nmemory usage: 1.3+ MB\n",
          "output_type": "stream"
        }
      ]
    },
    {
      "cell_type": "code",
      "source": [
        "df.describe()"
      ],
      "metadata": {
        "execution": {
          "iopub.status.busy": "2024-05-08T16:06:18.461037Z",
          "iopub.execute_input": "2024-05-08T16:06:18.461476Z",
          "iopub.status.idle": "2024-05-08T16:06:18.513537Z",
          "shell.execute_reply.started": "2024-05-08T16:06:18.461449Z",
          "shell.execute_reply": "2024-05-08T16:06:18.512731Z"
        },
        "trusted": true,
        "id": "jXrOVP1HAP1u",
        "outputId": "43fdb436-11d0-4eb0-8343-8909e1c3a904"
      },
      "execution_count": null,
      "outputs": [
        {
          "execution_count": 5,
          "output_type": "execute_result",
          "data": {
            "text/plain": "                cnt            t1            t2           hum    wind_speed  \\\ncount  17414.000000  17414.000000  17414.000000  17414.000000  17414.000000   \nmean    1143.101642     12.468091     11.520836     72.324954     15.913063   \nstd     1085.108068      5.571818      6.615145     14.313186      7.894570   \nmin        0.000000     -1.500000     -6.000000     20.500000      0.000000   \n25%      257.000000      8.000000      6.000000     63.000000     10.000000   \n50%      844.000000     12.500000     12.500000     74.500000     15.000000   \n75%     1671.750000     16.000000     16.000000     83.000000     20.500000   \nmax     7860.000000     34.000000     34.000000    100.000000     56.500000   \n\n       weather_code    is_holiday    is_weekend        season  \ncount  17414.000000  17414.000000  17414.000000  17414.000000  \nmean       2.722752      0.022051      0.285403      1.492075  \nstd        2.341163      0.146854      0.451619      1.118911  \nmin        1.000000      0.000000      0.000000      0.000000  \n25%        1.000000      0.000000      0.000000      0.000000  \n50%        2.000000      0.000000      0.000000      1.000000  \n75%        3.000000      0.000000      1.000000      2.000000  \nmax       26.000000      1.000000      1.000000      3.000000  ",
            "text/html": "<div>\n<style scoped>\n    .dataframe tbody tr th:only-of-type {\n        vertical-align: middle;\n    }\n\n    .dataframe tbody tr th {\n        vertical-align: top;\n    }\n\n    .dataframe thead th {\n        text-align: right;\n    }\n</style>\n<table border=\"1\" class=\"dataframe\">\n  <thead>\n    <tr style=\"text-align: right;\">\n      <th></th>\n      <th>cnt</th>\n      <th>t1</th>\n      <th>t2</th>\n      <th>hum</th>\n      <th>wind_speed</th>\n      <th>weather_code</th>\n      <th>is_holiday</th>\n      <th>is_weekend</th>\n      <th>season</th>\n    </tr>\n  </thead>\n  <tbody>\n    <tr>\n      <th>count</th>\n      <td>17414.000000</td>\n      <td>17414.000000</td>\n      <td>17414.000000</td>\n      <td>17414.000000</td>\n      <td>17414.000000</td>\n      <td>17414.000000</td>\n      <td>17414.000000</td>\n      <td>17414.000000</td>\n      <td>17414.000000</td>\n    </tr>\n    <tr>\n      <th>mean</th>\n      <td>1143.101642</td>\n      <td>12.468091</td>\n      <td>11.520836</td>\n      <td>72.324954</td>\n      <td>15.913063</td>\n      <td>2.722752</td>\n      <td>0.022051</td>\n      <td>0.285403</td>\n      <td>1.492075</td>\n    </tr>\n    <tr>\n      <th>std</th>\n      <td>1085.108068</td>\n      <td>5.571818</td>\n      <td>6.615145</td>\n      <td>14.313186</td>\n      <td>7.894570</td>\n      <td>2.341163</td>\n      <td>0.146854</td>\n      <td>0.451619</td>\n      <td>1.118911</td>\n    </tr>\n    <tr>\n      <th>min</th>\n      <td>0.000000</td>\n      <td>-1.500000</td>\n      <td>-6.000000</td>\n      <td>20.500000</td>\n      <td>0.000000</td>\n      <td>1.000000</td>\n      <td>0.000000</td>\n      <td>0.000000</td>\n      <td>0.000000</td>\n    </tr>\n    <tr>\n      <th>25%</th>\n      <td>257.000000</td>\n      <td>8.000000</td>\n      <td>6.000000</td>\n      <td>63.000000</td>\n      <td>10.000000</td>\n      <td>1.000000</td>\n      <td>0.000000</td>\n      <td>0.000000</td>\n      <td>0.000000</td>\n    </tr>\n    <tr>\n      <th>50%</th>\n      <td>844.000000</td>\n      <td>12.500000</td>\n      <td>12.500000</td>\n      <td>74.500000</td>\n      <td>15.000000</td>\n      <td>2.000000</td>\n      <td>0.000000</td>\n      <td>0.000000</td>\n      <td>1.000000</td>\n    </tr>\n    <tr>\n      <th>75%</th>\n      <td>1671.750000</td>\n      <td>16.000000</td>\n      <td>16.000000</td>\n      <td>83.000000</td>\n      <td>20.500000</td>\n      <td>3.000000</td>\n      <td>0.000000</td>\n      <td>1.000000</td>\n      <td>2.000000</td>\n    </tr>\n    <tr>\n      <th>max</th>\n      <td>7860.000000</td>\n      <td>34.000000</td>\n      <td>34.000000</td>\n      <td>100.000000</td>\n      <td>56.500000</td>\n      <td>26.000000</td>\n      <td>1.000000</td>\n      <td>1.000000</td>\n      <td>3.000000</td>\n    </tr>\n  </tbody>\n</table>\n</div>"
          },
          "metadata": {}
        }
      ]
    },
    {
      "cell_type": "code",
      "source": [
        "df.shape"
      ],
      "metadata": {
        "execution": {
          "iopub.status.busy": "2024-05-08T16:06:18.515574Z",
          "iopub.execute_input": "2024-05-08T16:06:18.516115Z",
          "iopub.status.idle": "2024-05-08T16:06:18.52093Z",
          "shell.execute_reply.started": "2024-05-08T16:06:18.516086Z",
          "shell.execute_reply": "2024-05-08T16:06:18.520224Z"
        },
        "trusted": true,
        "id": "1XR3ym27AP1v",
        "outputId": "3d1d2646-eea8-413e-ff9c-edfa007189b8"
      },
      "execution_count": null,
      "outputs": [
        {
          "execution_count": 6,
          "output_type": "execute_result",
          "data": {
            "text/plain": "(17414, 10)"
          },
          "metadata": {}
        }
      ]
    },
    {
      "cell_type": "code",
      "source": [
        "df"
      ],
      "metadata": {
        "execution": {
          "iopub.status.busy": "2024-05-08T16:06:18.522118Z",
          "iopub.execute_input": "2024-05-08T16:06:18.522459Z",
          "iopub.status.idle": "2024-05-08T16:06:18.554888Z",
          "shell.execute_reply.started": "2024-05-08T16:06:18.522432Z",
          "shell.execute_reply": "2024-05-08T16:06:18.553189Z"
        },
        "trusted": true,
        "id": "B6WMUyHEAP1v",
        "outputId": "9d9826a0-7a57-40f5-f87d-22555bc1a853"
      },
      "execution_count": null,
      "outputs": [
        {
          "execution_count": 7,
          "output_type": "execute_result",
          "data": {
            "text/plain": "                 timestamp   cnt   t1   t2    hum  wind_speed  weather_code  \\\n0      2015-01-04 00:00:00   182  3.0  2.0   93.0         6.0           3.0   \n1      2015-01-04 01:00:00   138  3.0  2.5   93.0         5.0           1.0   \n2      2015-01-04 02:00:00   134  2.5  2.5   96.5         0.0           1.0   \n3      2015-01-04 03:00:00    72  2.0  2.0  100.0         0.0           1.0   \n4      2015-01-04 04:00:00    47  2.0  0.0   93.0         6.5           1.0   \n...                    ...   ...  ...  ...    ...         ...           ...   \n17409  2017-01-03 19:00:00  1042  5.0  1.0   81.0        19.0           3.0   \n17410  2017-01-03 20:00:00   541  5.0  1.0   81.0        21.0           4.0   \n17411  2017-01-03 21:00:00   337  5.5  1.5   78.5        24.0           4.0   \n17412  2017-01-03 22:00:00   224  5.5  1.5   76.0        23.0           4.0   \n17413  2017-01-03 23:00:00   139  5.0  1.0   76.0        22.0           2.0   \n\n       is_holiday  is_weekend  season  \n0             0.0         1.0     3.0  \n1             0.0         1.0     3.0  \n2             0.0         1.0     3.0  \n3             0.0         1.0     3.0  \n4             0.0         1.0     3.0  \n...           ...         ...     ...  \n17409         0.0         0.0     3.0  \n17410         0.0         0.0     3.0  \n17411         0.0         0.0     3.0  \n17412         0.0         0.0     3.0  \n17413         0.0         0.0     3.0  \n\n[17414 rows x 10 columns]",
            "text/html": "<div>\n<style scoped>\n    .dataframe tbody tr th:only-of-type {\n        vertical-align: middle;\n    }\n\n    .dataframe tbody tr th {\n        vertical-align: top;\n    }\n\n    .dataframe thead th {\n        text-align: right;\n    }\n</style>\n<table border=\"1\" class=\"dataframe\">\n  <thead>\n    <tr style=\"text-align: right;\">\n      <th></th>\n      <th>timestamp</th>\n      <th>cnt</th>\n      <th>t1</th>\n      <th>t2</th>\n      <th>hum</th>\n      <th>wind_speed</th>\n      <th>weather_code</th>\n      <th>is_holiday</th>\n      <th>is_weekend</th>\n      <th>season</th>\n    </tr>\n  </thead>\n  <tbody>\n    <tr>\n      <th>0</th>\n      <td>2015-01-04 00:00:00</td>\n      <td>182</td>\n      <td>3.0</td>\n      <td>2.0</td>\n      <td>93.0</td>\n      <td>6.0</td>\n      <td>3.0</td>\n      <td>0.0</td>\n      <td>1.0</td>\n      <td>3.0</td>\n    </tr>\n    <tr>\n      <th>1</th>\n      <td>2015-01-04 01:00:00</td>\n      <td>138</td>\n      <td>3.0</td>\n      <td>2.5</td>\n      <td>93.0</td>\n      <td>5.0</td>\n      <td>1.0</td>\n      <td>0.0</td>\n      <td>1.0</td>\n      <td>3.0</td>\n    </tr>\n    <tr>\n      <th>2</th>\n      <td>2015-01-04 02:00:00</td>\n      <td>134</td>\n      <td>2.5</td>\n      <td>2.5</td>\n      <td>96.5</td>\n      <td>0.0</td>\n      <td>1.0</td>\n      <td>0.0</td>\n      <td>1.0</td>\n      <td>3.0</td>\n    </tr>\n    <tr>\n      <th>3</th>\n      <td>2015-01-04 03:00:00</td>\n      <td>72</td>\n      <td>2.0</td>\n      <td>2.0</td>\n      <td>100.0</td>\n      <td>0.0</td>\n      <td>1.0</td>\n      <td>0.0</td>\n      <td>1.0</td>\n      <td>3.0</td>\n    </tr>\n    <tr>\n      <th>4</th>\n      <td>2015-01-04 04:00:00</td>\n      <td>47</td>\n      <td>2.0</td>\n      <td>0.0</td>\n      <td>93.0</td>\n      <td>6.5</td>\n      <td>1.0</td>\n      <td>0.0</td>\n      <td>1.0</td>\n      <td>3.0</td>\n    </tr>\n    <tr>\n      <th>...</th>\n      <td>...</td>\n      <td>...</td>\n      <td>...</td>\n      <td>...</td>\n      <td>...</td>\n      <td>...</td>\n      <td>...</td>\n      <td>...</td>\n      <td>...</td>\n      <td>...</td>\n    </tr>\n    <tr>\n      <th>17409</th>\n      <td>2017-01-03 19:00:00</td>\n      <td>1042</td>\n      <td>5.0</td>\n      <td>1.0</td>\n      <td>81.0</td>\n      <td>19.0</td>\n      <td>3.0</td>\n      <td>0.0</td>\n      <td>0.0</td>\n      <td>3.0</td>\n    </tr>\n    <tr>\n      <th>17410</th>\n      <td>2017-01-03 20:00:00</td>\n      <td>541</td>\n      <td>5.0</td>\n      <td>1.0</td>\n      <td>81.0</td>\n      <td>21.0</td>\n      <td>4.0</td>\n      <td>0.0</td>\n      <td>0.0</td>\n      <td>3.0</td>\n    </tr>\n    <tr>\n      <th>17411</th>\n      <td>2017-01-03 21:00:00</td>\n      <td>337</td>\n      <td>5.5</td>\n      <td>1.5</td>\n      <td>78.5</td>\n      <td>24.0</td>\n      <td>4.0</td>\n      <td>0.0</td>\n      <td>0.0</td>\n      <td>3.0</td>\n    </tr>\n    <tr>\n      <th>17412</th>\n      <td>2017-01-03 22:00:00</td>\n      <td>224</td>\n      <td>5.5</td>\n      <td>1.5</td>\n      <td>76.0</td>\n      <td>23.0</td>\n      <td>4.0</td>\n      <td>0.0</td>\n      <td>0.0</td>\n      <td>3.0</td>\n    </tr>\n    <tr>\n      <th>17413</th>\n      <td>2017-01-03 23:00:00</td>\n      <td>139</td>\n      <td>5.0</td>\n      <td>1.0</td>\n      <td>76.0</td>\n      <td>22.0</td>\n      <td>2.0</td>\n      <td>0.0</td>\n      <td>0.0</td>\n      <td>3.0</td>\n    </tr>\n  </tbody>\n</table>\n<p>17414 rows × 10 columns</p>\n</div>"
          },
          "metadata": {}
        }
      ]
    },
    {
      "cell_type": "code",
      "source": [
        "df.weather_code.value_counts()"
      ],
      "metadata": {
        "execution": {
          "iopub.status.busy": "2024-05-08T16:06:18.556456Z",
          "iopub.execute_input": "2024-05-08T16:06:18.556996Z",
          "iopub.status.idle": "2024-05-08T16:06:18.567047Z",
          "shell.execute_reply.started": "2024-05-08T16:06:18.556968Z",
          "shell.execute_reply": "2024-05-08T16:06:18.565987Z"
        },
        "trusted": true,
        "id": "JDuNdXTaAP1w",
        "outputId": "ef6ae0c7-a5a3-4cc1-aa0a-5996b7a8d89c"
      },
      "execution_count": null,
      "outputs": [
        {
          "execution_count": 8,
          "output_type": "execute_result",
          "data": {
            "text/plain": "weather_code\n1.0     6150\n2.0     4034\n3.0     3551\n7.0     2141\n4.0     1464\n26.0      60\n10.0      14\nName: count, dtype: int64"
          },
          "metadata": {}
        }
      ]
    },
    {
      "cell_type": "code",
      "source": [
        "df.season.value_counts()"
      ],
      "metadata": {
        "execution": {
          "iopub.status.busy": "2024-05-08T16:06:18.56862Z",
          "iopub.execute_input": "2024-05-08T16:06:18.568953Z",
          "iopub.status.idle": "2024-05-08T16:06:18.580061Z",
          "shell.execute_reply.started": "2024-05-08T16:06:18.568921Z",
          "shell.execute_reply": "2024-05-08T16:06:18.578962Z"
        },
        "trusted": true,
        "id": "QExkMx7SAP1x",
        "outputId": "43eadceb-6d2b-4ecd-dc30-11240176fcc1"
      },
      "execution_count": null,
      "outputs": [
        {
          "execution_count": 9,
          "output_type": "execute_result",
          "data": {
            "text/plain": "season\n0.0    4394\n1.0    4387\n3.0    4330\n2.0    4303\nName: count, dtype: int64"
          },
          "metadata": {}
        }
      ]
    },
    {
      "cell_type": "code",
      "source": [
        "# Creating a season dictionary so that  we can map the integers 0-3 to the actual written values:\n",
        "\n",
        "season_name={'0.0':'spring',\n",
        "             '1.0':'summer',\n",
        "             '2.0':'autumn',\n",
        "             '3.0':'winter'}"
      ],
      "metadata": {
        "execution": {
          "iopub.status.busy": "2024-05-08T16:06:18.58408Z",
          "iopub.execute_input": "2024-05-08T16:06:18.584638Z",
          "iopub.status.idle": "2024-05-08T16:06:18.58929Z",
          "shell.execute_reply.started": "2024-05-08T16:06:18.584611Z",
          "shell.execute_reply": "2024-05-08T16:06:18.588325Z"
        },
        "trusted": true,
        "id": "ryAjvdBWAP1x"
      },
      "execution_count": null,
      "outputs": []
    },
    {
      "cell_type": "code",
      "source": [
        "# Creating a weather dictionary so that  we can map the integers to the actual written values:\n",
        "\n",
        "weather_condition={'1.0':'Clear',\n",
        "              '2.0':'scattered clouds',\n",
        "              '3.0':'Broken Clouds',\n",
        "              '4.0':'Cloudy',\n",
        "              '7.0':'Rain',\n",
        "              '10.0':'rain With thunderstorm ',\n",
        "              '26':'Snowfall'}"
      ],
      "metadata": {
        "execution": {
          "iopub.status.busy": "2024-05-08T16:06:18.590463Z",
          "iopub.execute_input": "2024-05-08T16:06:18.590788Z",
          "iopub.status.idle": "2024-05-08T16:06:18.601287Z",
          "shell.execute_reply.started": "2024-05-08T16:06:18.590763Z",
          "shell.execute_reply": "2024-05-08T16:06:18.600286Z"
        },
        "trusted": true,
        "id": "M-FGJE86AP1y"
      },
      "execution_count": null,
      "outputs": []
    },
    {
      "cell_type": "code",
      "source": [
        "# Changing the season column data type to string:\n",
        "\n",
        "df['season'] = df['season'].astype('string')"
      ],
      "metadata": {
        "execution": {
          "iopub.status.busy": "2024-05-08T16:06:18.602401Z",
          "iopub.execute_input": "2024-05-08T16:06:18.603309Z",
          "iopub.status.idle": "2024-05-08T16:06:18.624489Z",
          "shell.execute_reply.started": "2024-05-08T16:06:18.603281Z",
          "shell.execute_reply": "2024-05-08T16:06:18.62333Z"
        },
        "trusted": true,
        "id": "ONjeXF5IAP1y"
      },
      "execution_count": null,
      "outputs": []
    },
    {
      "cell_type": "code",
      "source": [
        "# Maping the values 0-3 to the actual written seasons:\n",
        "\n",
        "df['season'] = df['season'].map(season_name)"
      ],
      "metadata": {
        "execution": {
          "iopub.status.busy": "2024-05-08T16:06:18.626082Z",
          "iopub.execute_input": "2024-05-08T16:06:18.626615Z",
          "iopub.status.idle": "2024-05-08T16:06:18.636865Z",
          "shell.execute_reply.started": "2024-05-08T16:06:18.626587Z",
          "shell.execute_reply": "2024-05-08T16:06:18.636206Z"
        },
        "trusted": true,
        "id": "twGEOar8AP1y"
      },
      "execution_count": null,
      "outputs": []
    },
    {
      "cell_type": "code",
      "source": [
        "# Changing the weather column data type to string:\n",
        "\n",
        "df['weather_code']=df['weather_code'].astype('string')"
      ],
      "metadata": {
        "execution": {
          "iopub.status.busy": "2024-05-08T16:06:18.637971Z",
          "iopub.execute_input": "2024-05-08T16:06:18.638694Z",
          "iopub.status.idle": "2024-05-08T16:06:18.661998Z",
          "shell.execute_reply.started": "2024-05-08T16:06:18.638657Z",
          "shell.execute_reply": "2024-05-08T16:06:18.660907Z"
        },
        "trusted": true,
        "id": "_Qa7FsuUAP1z"
      },
      "execution_count": null,
      "outputs": []
    },
    {
      "cell_type": "code",
      "source": [
        "# Maping the values to the actual written weathers:\n",
        "\n",
        "df['weather_code']=df['weather_code'].map(weather_condition)"
      ],
      "metadata": {
        "execution": {
          "iopub.status.busy": "2024-05-08T16:06:18.663306Z",
          "iopub.execute_input": "2024-05-08T16:06:18.663589Z",
          "iopub.status.idle": "2024-05-08T16:06:18.677585Z",
          "shell.execute_reply.started": "2024-05-08T16:06:18.663565Z",
          "shell.execute_reply": "2024-05-08T16:06:18.676721Z"
        },
        "trusted": true,
        "id": "TAnkjnNVAP1z"
      },
      "execution_count": null,
      "outputs": []
    },
    {
      "cell_type": "code",
      "source": [
        "# Checking the data frame to see if the mapings have worked :\n",
        "\n",
        "df.head(30)"
      ],
      "metadata": {
        "execution": {
          "iopub.status.busy": "2024-05-08T16:06:18.678929Z",
          "iopub.execute_input": "2024-05-08T16:06:18.679987Z",
          "iopub.status.idle": "2024-05-08T16:06:18.718687Z",
          "shell.execute_reply.started": "2024-05-08T16:06:18.67995Z",
          "shell.execute_reply": "2024-05-08T16:06:18.717647Z"
        },
        "trusted": true,
        "id": "jOO0sFEeAP10",
        "outputId": "ff5134f1-8898-45ee-c60c-161f8a28a4ec"
      },
      "execution_count": null,
      "outputs": [
        {
          "execution_count": 16,
          "output_type": "execute_result",
          "data": {
            "text/plain": "              timestamp   cnt   t1   t2    hum  wind_speed   weather_code  \\\n0   2015-01-04 00:00:00   182  3.0  2.0   93.0         6.0  Broken Clouds   \n1   2015-01-04 01:00:00   138  3.0  2.5   93.0         5.0          Clear   \n2   2015-01-04 02:00:00   134  2.5  2.5   96.5         0.0          Clear   \n3   2015-01-04 03:00:00    72  2.0  2.0  100.0         0.0          Clear   \n4   2015-01-04 04:00:00    47  2.0  0.0   93.0         6.5          Clear   \n5   2015-01-04 05:00:00    46  2.0  2.0   93.0         4.0          Clear   \n6   2015-01-04 06:00:00    51  1.0 -1.0  100.0         7.0         Cloudy   \n7   2015-01-04 07:00:00    75  1.0 -1.0  100.0         7.0         Cloudy   \n8   2015-01-04 08:00:00   131  1.5 -1.0   96.5         8.0         Cloudy   \n9   2015-01-04 09:00:00   301  2.0 -0.5  100.0         9.0  Broken Clouds   \n10  2015-01-04 10:00:00   528  3.0 -0.5   93.0        12.0  Broken Clouds   \n11  2015-01-04 11:00:00   727  2.0 -1.5  100.0        12.0  Broken Clouds   \n12  2015-01-04 12:00:00   862  2.0 -1.5   96.5        13.0         Cloudy   \n13  2015-01-04 13:00:00   916  3.0 -0.5   87.0        15.0  Broken Clouds   \n14  2015-01-04 14:00:00  1039  2.5  0.0   90.0         8.0  Broken Clouds   \n15  2015-01-04 15:00:00   869  2.0 -1.5   93.0        11.0  Broken Clouds   \n16  2015-01-04 16:00:00   737  3.0  0.0   93.0        12.0  Broken Clouds   \n17  2015-01-04 17:00:00   594  3.0  0.0   93.0        11.0  Broken Clouds   \n18  2015-01-04 18:00:00   522  3.0  1.5   93.0         6.5  Broken Clouds   \n19  2015-01-04 19:00:00   379  3.0  1.0   93.0         7.0  Broken Clouds   \n20  2015-01-04 20:00:00   328  3.0  3.0   93.0         4.0  Broken Clouds   \n21  2015-01-04 21:00:00   221  3.0  2.5   93.0         5.0         Cloudy   \n22  2015-01-04 22:00:00   178  3.0  2.0   93.0         6.0         Cloudy   \n23  2015-01-04 23:00:00   157  4.0  3.5   87.0         5.0         Cloudy   \n24  2015-01-05 00:00:00    83  4.0  3.0   93.0         6.0         Cloudy   \n25  2015-01-05 01:00:00    67  4.0  3.5   93.0         5.0         Cloudy   \n26  2015-01-05 02:00:00    32  5.0  4.0   87.0         6.0         Cloudy   \n27  2015-01-05 03:00:00    22  6.0  4.5   84.0         7.5         Cloudy   \n28  2015-01-05 04:00:00    38  6.5  5.0   84.0         8.0         Cloudy   \n29  2015-01-05 05:00:00    81  6.0  5.5   87.0         5.0         Cloudy   \n\n    is_holiday  is_weekend  season  \n0          0.0         1.0  winter  \n1          0.0         1.0  winter  \n2          0.0         1.0  winter  \n3          0.0         1.0  winter  \n4          0.0         1.0  winter  \n5          0.0         1.0  winter  \n6          0.0         1.0  winter  \n7          0.0         1.0  winter  \n8          0.0         1.0  winter  \n9          0.0         1.0  winter  \n10         0.0         1.0  winter  \n11         0.0         1.0  winter  \n12         0.0         1.0  winter  \n13         0.0         1.0  winter  \n14         0.0         1.0  winter  \n15         0.0         1.0  winter  \n16         0.0         1.0  winter  \n17         0.0         1.0  winter  \n18         0.0         1.0  winter  \n19         0.0         1.0  winter  \n20         0.0         1.0  winter  \n21         0.0         1.0  winter  \n22         0.0         1.0  winter  \n23         0.0         1.0  winter  \n24         0.0         0.0  winter  \n25         0.0         0.0  winter  \n26         0.0         0.0  winter  \n27         0.0         0.0  winter  \n28         0.0         0.0  winter  \n29         0.0         0.0  winter  ",
            "text/html": "<div>\n<style scoped>\n    .dataframe tbody tr th:only-of-type {\n        vertical-align: middle;\n    }\n\n    .dataframe tbody tr th {\n        vertical-align: top;\n    }\n\n    .dataframe thead th {\n        text-align: right;\n    }\n</style>\n<table border=\"1\" class=\"dataframe\">\n  <thead>\n    <tr style=\"text-align: right;\">\n      <th></th>\n      <th>timestamp</th>\n      <th>cnt</th>\n      <th>t1</th>\n      <th>t2</th>\n      <th>hum</th>\n      <th>wind_speed</th>\n      <th>weather_code</th>\n      <th>is_holiday</th>\n      <th>is_weekend</th>\n      <th>season</th>\n    </tr>\n  </thead>\n  <tbody>\n    <tr>\n      <th>0</th>\n      <td>2015-01-04 00:00:00</td>\n      <td>182</td>\n      <td>3.0</td>\n      <td>2.0</td>\n      <td>93.0</td>\n      <td>6.0</td>\n      <td>Broken Clouds</td>\n      <td>0.0</td>\n      <td>1.0</td>\n      <td>winter</td>\n    </tr>\n    <tr>\n      <th>1</th>\n      <td>2015-01-04 01:00:00</td>\n      <td>138</td>\n      <td>3.0</td>\n      <td>2.5</td>\n      <td>93.0</td>\n      <td>5.0</td>\n      <td>Clear</td>\n      <td>0.0</td>\n      <td>1.0</td>\n      <td>winter</td>\n    </tr>\n    <tr>\n      <th>2</th>\n      <td>2015-01-04 02:00:00</td>\n      <td>134</td>\n      <td>2.5</td>\n      <td>2.5</td>\n      <td>96.5</td>\n      <td>0.0</td>\n      <td>Clear</td>\n      <td>0.0</td>\n      <td>1.0</td>\n      <td>winter</td>\n    </tr>\n    <tr>\n      <th>3</th>\n      <td>2015-01-04 03:00:00</td>\n      <td>72</td>\n      <td>2.0</td>\n      <td>2.0</td>\n      <td>100.0</td>\n      <td>0.0</td>\n      <td>Clear</td>\n      <td>0.0</td>\n      <td>1.0</td>\n      <td>winter</td>\n    </tr>\n    <tr>\n      <th>4</th>\n      <td>2015-01-04 04:00:00</td>\n      <td>47</td>\n      <td>2.0</td>\n      <td>0.0</td>\n      <td>93.0</td>\n      <td>6.5</td>\n      <td>Clear</td>\n      <td>0.0</td>\n      <td>1.0</td>\n      <td>winter</td>\n    </tr>\n    <tr>\n      <th>5</th>\n      <td>2015-01-04 05:00:00</td>\n      <td>46</td>\n      <td>2.0</td>\n      <td>2.0</td>\n      <td>93.0</td>\n      <td>4.0</td>\n      <td>Clear</td>\n      <td>0.0</td>\n      <td>1.0</td>\n      <td>winter</td>\n    </tr>\n    <tr>\n      <th>6</th>\n      <td>2015-01-04 06:00:00</td>\n      <td>51</td>\n      <td>1.0</td>\n      <td>-1.0</td>\n      <td>100.0</td>\n      <td>7.0</td>\n      <td>Cloudy</td>\n      <td>0.0</td>\n      <td>1.0</td>\n      <td>winter</td>\n    </tr>\n    <tr>\n      <th>7</th>\n      <td>2015-01-04 07:00:00</td>\n      <td>75</td>\n      <td>1.0</td>\n      <td>-1.0</td>\n      <td>100.0</td>\n      <td>7.0</td>\n      <td>Cloudy</td>\n      <td>0.0</td>\n      <td>1.0</td>\n      <td>winter</td>\n    </tr>\n    <tr>\n      <th>8</th>\n      <td>2015-01-04 08:00:00</td>\n      <td>131</td>\n      <td>1.5</td>\n      <td>-1.0</td>\n      <td>96.5</td>\n      <td>8.0</td>\n      <td>Cloudy</td>\n      <td>0.0</td>\n      <td>1.0</td>\n      <td>winter</td>\n    </tr>\n    <tr>\n      <th>9</th>\n      <td>2015-01-04 09:00:00</td>\n      <td>301</td>\n      <td>2.0</td>\n      <td>-0.5</td>\n      <td>100.0</td>\n      <td>9.0</td>\n      <td>Broken Clouds</td>\n      <td>0.0</td>\n      <td>1.0</td>\n      <td>winter</td>\n    </tr>\n    <tr>\n      <th>10</th>\n      <td>2015-01-04 10:00:00</td>\n      <td>528</td>\n      <td>3.0</td>\n      <td>-0.5</td>\n      <td>93.0</td>\n      <td>12.0</td>\n      <td>Broken Clouds</td>\n      <td>0.0</td>\n      <td>1.0</td>\n      <td>winter</td>\n    </tr>\n    <tr>\n      <th>11</th>\n      <td>2015-01-04 11:00:00</td>\n      <td>727</td>\n      <td>2.0</td>\n      <td>-1.5</td>\n      <td>100.0</td>\n      <td>12.0</td>\n      <td>Broken Clouds</td>\n      <td>0.0</td>\n      <td>1.0</td>\n      <td>winter</td>\n    </tr>\n    <tr>\n      <th>12</th>\n      <td>2015-01-04 12:00:00</td>\n      <td>862</td>\n      <td>2.0</td>\n      <td>-1.5</td>\n      <td>96.5</td>\n      <td>13.0</td>\n      <td>Cloudy</td>\n      <td>0.0</td>\n      <td>1.0</td>\n      <td>winter</td>\n    </tr>\n    <tr>\n      <th>13</th>\n      <td>2015-01-04 13:00:00</td>\n      <td>916</td>\n      <td>3.0</td>\n      <td>-0.5</td>\n      <td>87.0</td>\n      <td>15.0</td>\n      <td>Broken Clouds</td>\n      <td>0.0</td>\n      <td>1.0</td>\n      <td>winter</td>\n    </tr>\n    <tr>\n      <th>14</th>\n      <td>2015-01-04 14:00:00</td>\n      <td>1039</td>\n      <td>2.5</td>\n      <td>0.0</td>\n      <td>90.0</td>\n      <td>8.0</td>\n      <td>Broken Clouds</td>\n      <td>0.0</td>\n      <td>1.0</td>\n      <td>winter</td>\n    </tr>\n    <tr>\n      <th>15</th>\n      <td>2015-01-04 15:00:00</td>\n      <td>869</td>\n      <td>2.0</td>\n      <td>-1.5</td>\n      <td>93.0</td>\n      <td>11.0</td>\n      <td>Broken Clouds</td>\n      <td>0.0</td>\n      <td>1.0</td>\n      <td>winter</td>\n    </tr>\n    <tr>\n      <th>16</th>\n      <td>2015-01-04 16:00:00</td>\n      <td>737</td>\n      <td>3.0</td>\n      <td>0.0</td>\n      <td>93.0</td>\n      <td>12.0</td>\n      <td>Broken Clouds</td>\n      <td>0.0</td>\n      <td>1.0</td>\n      <td>winter</td>\n    </tr>\n    <tr>\n      <th>17</th>\n      <td>2015-01-04 17:00:00</td>\n      <td>594</td>\n      <td>3.0</td>\n      <td>0.0</td>\n      <td>93.0</td>\n      <td>11.0</td>\n      <td>Broken Clouds</td>\n      <td>0.0</td>\n      <td>1.0</td>\n      <td>winter</td>\n    </tr>\n    <tr>\n      <th>18</th>\n      <td>2015-01-04 18:00:00</td>\n      <td>522</td>\n      <td>3.0</td>\n      <td>1.5</td>\n      <td>93.0</td>\n      <td>6.5</td>\n      <td>Broken Clouds</td>\n      <td>0.0</td>\n      <td>1.0</td>\n      <td>winter</td>\n    </tr>\n    <tr>\n      <th>19</th>\n      <td>2015-01-04 19:00:00</td>\n      <td>379</td>\n      <td>3.0</td>\n      <td>1.0</td>\n      <td>93.0</td>\n      <td>7.0</td>\n      <td>Broken Clouds</td>\n      <td>0.0</td>\n      <td>1.0</td>\n      <td>winter</td>\n    </tr>\n    <tr>\n      <th>20</th>\n      <td>2015-01-04 20:00:00</td>\n      <td>328</td>\n      <td>3.0</td>\n      <td>3.0</td>\n      <td>93.0</td>\n      <td>4.0</td>\n      <td>Broken Clouds</td>\n      <td>0.0</td>\n      <td>1.0</td>\n      <td>winter</td>\n    </tr>\n    <tr>\n      <th>21</th>\n      <td>2015-01-04 21:00:00</td>\n      <td>221</td>\n      <td>3.0</td>\n      <td>2.5</td>\n      <td>93.0</td>\n      <td>5.0</td>\n      <td>Cloudy</td>\n      <td>0.0</td>\n      <td>1.0</td>\n      <td>winter</td>\n    </tr>\n    <tr>\n      <th>22</th>\n      <td>2015-01-04 22:00:00</td>\n      <td>178</td>\n      <td>3.0</td>\n      <td>2.0</td>\n      <td>93.0</td>\n      <td>6.0</td>\n      <td>Cloudy</td>\n      <td>0.0</td>\n      <td>1.0</td>\n      <td>winter</td>\n    </tr>\n    <tr>\n      <th>23</th>\n      <td>2015-01-04 23:00:00</td>\n      <td>157</td>\n      <td>4.0</td>\n      <td>3.5</td>\n      <td>87.0</td>\n      <td>5.0</td>\n      <td>Cloudy</td>\n      <td>0.0</td>\n      <td>1.0</td>\n      <td>winter</td>\n    </tr>\n    <tr>\n      <th>24</th>\n      <td>2015-01-05 00:00:00</td>\n      <td>83</td>\n      <td>4.0</td>\n      <td>3.0</td>\n      <td>93.0</td>\n      <td>6.0</td>\n      <td>Cloudy</td>\n      <td>0.0</td>\n      <td>0.0</td>\n      <td>winter</td>\n    </tr>\n    <tr>\n      <th>25</th>\n      <td>2015-01-05 01:00:00</td>\n      <td>67</td>\n      <td>4.0</td>\n      <td>3.5</td>\n      <td>93.0</td>\n      <td>5.0</td>\n      <td>Cloudy</td>\n      <td>0.0</td>\n      <td>0.0</td>\n      <td>winter</td>\n    </tr>\n    <tr>\n      <th>26</th>\n      <td>2015-01-05 02:00:00</td>\n      <td>32</td>\n      <td>5.0</td>\n      <td>4.0</td>\n      <td>87.0</td>\n      <td>6.0</td>\n      <td>Cloudy</td>\n      <td>0.0</td>\n      <td>0.0</td>\n      <td>winter</td>\n    </tr>\n    <tr>\n      <th>27</th>\n      <td>2015-01-05 03:00:00</td>\n      <td>22</td>\n      <td>6.0</td>\n      <td>4.5</td>\n      <td>84.0</td>\n      <td>7.5</td>\n      <td>Cloudy</td>\n      <td>0.0</td>\n      <td>0.0</td>\n      <td>winter</td>\n    </tr>\n    <tr>\n      <th>28</th>\n      <td>2015-01-05 04:00:00</td>\n      <td>38</td>\n      <td>6.5</td>\n      <td>5.0</td>\n      <td>84.0</td>\n      <td>8.0</td>\n      <td>Cloudy</td>\n      <td>0.0</td>\n      <td>0.0</td>\n      <td>winter</td>\n    </tr>\n    <tr>\n      <th>29</th>\n      <td>2015-01-05 05:00:00</td>\n      <td>81</td>\n      <td>6.0</td>\n      <td>5.5</td>\n      <td>87.0</td>\n      <td>5.0</td>\n      <td>Cloudy</td>\n      <td>0.0</td>\n      <td>0.0</td>\n      <td>winter</td>\n    </tr>\n  </tbody>\n</table>\n</div>"
          },
          "metadata": {}
        }
      ]
    },
    {
      "cell_type": "code",
      "source": [
        "df.tail(20)"
      ],
      "metadata": {
        "execution": {
          "iopub.status.busy": "2024-05-08T16:06:18.719804Z",
          "iopub.execute_input": "2024-05-08T16:06:18.720122Z",
          "iopub.status.idle": "2024-05-08T16:06:18.750166Z",
          "shell.execute_reply.started": "2024-05-08T16:06:18.720095Z",
          "shell.execute_reply": "2024-05-08T16:06:18.749178Z"
        },
        "trusted": true,
        "id": "dlTvw_XFAP10",
        "outputId": "0ebc18f3-d5e9-4e56-8205-ea5b2842182b"
      },
      "execution_count": null,
      "outputs": [
        {
          "execution_count": 17,
          "output_type": "execute_result",
          "data": {
            "text/plain": "                 timestamp   cnt   t1   t2   hum  wind_speed  \\\n17394  2017-01-03 04:00:00    30  0.0 -4.0  93.0        14.0   \n17395  2017-01-03 05:00:00    83  0.5 -3.5  90.0        14.0   \n17396  2017-01-03 06:00:00   434  1.0 -3.5  87.0        18.0   \n17397  2017-01-03 07:00:00  1407  1.0 -4.0  87.0        19.0   \n17398  2017-01-03 08:00:00  2904  1.0 -3.5  87.0        18.5   \n17399  2017-01-03 09:00:00  1357  2.5 -1.5  81.0        14.0   \n17400  2017-01-03 10:00:00   661  3.0 -2.0  81.0        20.0   \n17401  2017-01-03 11:00:00   636  4.0  0.0  78.0        21.0   \n17402  2017-01-03 12:00:00   825  5.0  1.0  76.0        21.0   \n17403  2017-01-03 13:00:00   878  6.0  2.0  71.0        23.0   \n17404  2017-01-03 14:00:00   765  6.0  2.0  73.5        22.0   \n17405  2017-01-03 15:00:00   845  6.0  2.0  71.0        27.0   \n17406  2017-01-03 16:00:00  1201  6.0  2.0  71.0        26.0   \n17407  2017-01-03 17:00:00  2742  6.0  2.0  73.5        21.0   \n17408  2017-01-03 18:00:00  2220  5.0  1.0  81.0        22.0   \n17409  2017-01-03 19:00:00  1042  5.0  1.0  81.0        19.0   \n17410  2017-01-03 20:00:00   541  5.0  1.0  81.0        21.0   \n17411  2017-01-03 21:00:00   337  5.5  1.5  78.5        24.0   \n17412  2017-01-03 22:00:00   224  5.5  1.5  76.0        23.0   \n17413  2017-01-03 23:00:00   139  5.0  1.0  76.0        22.0   \n\n           weather_code  is_holiday  is_weekend  season  \n17394             Clear         0.0         0.0  winter  \n17395     Broken Clouds         0.0         0.0  winter  \n17396             Clear         0.0         0.0  winter  \n17397             Clear         0.0         0.0  winter  \n17398     Broken Clouds         0.0         0.0  winter  \n17399             Clear         0.0         0.0  winter  \n17400             Clear         0.0         0.0  winter  \n17401             Clear         0.0         0.0  winter  \n17402     Broken Clouds         0.0         0.0  winter  \n17403            Cloudy         0.0         0.0  winter  \n17404     Broken Clouds         0.0         0.0  winter  \n17405            Cloudy         0.0         0.0  winter  \n17406            Cloudy         0.0         0.0  winter  \n17407     Broken Clouds         0.0         0.0  winter  \n17408  scattered clouds         0.0         0.0  winter  \n17409     Broken Clouds         0.0         0.0  winter  \n17410            Cloudy         0.0         0.0  winter  \n17411            Cloudy         0.0         0.0  winter  \n17412            Cloudy         0.0         0.0  winter  \n17413  scattered clouds         0.0         0.0  winter  ",
            "text/html": "<div>\n<style scoped>\n    .dataframe tbody tr th:only-of-type {\n        vertical-align: middle;\n    }\n\n    .dataframe tbody tr th {\n        vertical-align: top;\n    }\n\n    .dataframe thead th {\n        text-align: right;\n    }\n</style>\n<table border=\"1\" class=\"dataframe\">\n  <thead>\n    <tr style=\"text-align: right;\">\n      <th></th>\n      <th>timestamp</th>\n      <th>cnt</th>\n      <th>t1</th>\n      <th>t2</th>\n      <th>hum</th>\n      <th>wind_speed</th>\n      <th>weather_code</th>\n      <th>is_holiday</th>\n      <th>is_weekend</th>\n      <th>season</th>\n    </tr>\n  </thead>\n  <tbody>\n    <tr>\n      <th>17394</th>\n      <td>2017-01-03 04:00:00</td>\n      <td>30</td>\n      <td>0.0</td>\n      <td>-4.0</td>\n      <td>93.0</td>\n      <td>14.0</td>\n      <td>Clear</td>\n      <td>0.0</td>\n      <td>0.0</td>\n      <td>winter</td>\n    </tr>\n    <tr>\n      <th>17395</th>\n      <td>2017-01-03 05:00:00</td>\n      <td>83</td>\n      <td>0.5</td>\n      <td>-3.5</td>\n      <td>90.0</td>\n      <td>14.0</td>\n      <td>Broken Clouds</td>\n      <td>0.0</td>\n      <td>0.0</td>\n      <td>winter</td>\n    </tr>\n    <tr>\n      <th>17396</th>\n      <td>2017-01-03 06:00:00</td>\n      <td>434</td>\n      <td>1.0</td>\n      <td>-3.5</td>\n      <td>87.0</td>\n      <td>18.0</td>\n      <td>Clear</td>\n      <td>0.0</td>\n      <td>0.0</td>\n      <td>winter</td>\n    </tr>\n    <tr>\n      <th>17397</th>\n      <td>2017-01-03 07:00:00</td>\n      <td>1407</td>\n      <td>1.0</td>\n      <td>-4.0</td>\n      <td>87.0</td>\n      <td>19.0</td>\n      <td>Clear</td>\n      <td>0.0</td>\n      <td>0.0</td>\n      <td>winter</td>\n    </tr>\n    <tr>\n      <th>17398</th>\n      <td>2017-01-03 08:00:00</td>\n      <td>2904</td>\n      <td>1.0</td>\n      <td>-3.5</td>\n      <td>87.0</td>\n      <td>18.5</td>\n      <td>Broken Clouds</td>\n      <td>0.0</td>\n      <td>0.0</td>\n      <td>winter</td>\n    </tr>\n    <tr>\n      <th>17399</th>\n      <td>2017-01-03 09:00:00</td>\n      <td>1357</td>\n      <td>2.5</td>\n      <td>-1.5</td>\n      <td>81.0</td>\n      <td>14.0</td>\n      <td>Clear</td>\n      <td>0.0</td>\n      <td>0.0</td>\n      <td>winter</td>\n    </tr>\n    <tr>\n      <th>17400</th>\n      <td>2017-01-03 10:00:00</td>\n      <td>661</td>\n      <td>3.0</td>\n      <td>-2.0</td>\n      <td>81.0</td>\n      <td>20.0</td>\n      <td>Clear</td>\n      <td>0.0</td>\n      <td>0.0</td>\n      <td>winter</td>\n    </tr>\n    <tr>\n      <th>17401</th>\n      <td>2017-01-03 11:00:00</td>\n      <td>636</td>\n      <td>4.0</td>\n      <td>0.0</td>\n      <td>78.0</td>\n      <td>21.0</td>\n      <td>Clear</td>\n      <td>0.0</td>\n      <td>0.0</td>\n      <td>winter</td>\n    </tr>\n    <tr>\n      <th>17402</th>\n      <td>2017-01-03 12:00:00</td>\n      <td>825</td>\n      <td>5.0</td>\n      <td>1.0</td>\n      <td>76.0</td>\n      <td>21.0</td>\n      <td>Broken Clouds</td>\n      <td>0.0</td>\n      <td>0.0</td>\n      <td>winter</td>\n    </tr>\n    <tr>\n      <th>17403</th>\n      <td>2017-01-03 13:00:00</td>\n      <td>878</td>\n      <td>6.0</td>\n      <td>2.0</td>\n      <td>71.0</td>\n      <td>23.0</td>\n      <td>Cloudy</td>\n      <td>0.0</td>\n      <td>0.0</td>\n      <td>winter</td>\n    </tr>\n    <tr>\n      <th>17404</th>\n      <td>2017-01-03 14:00:00</td>\n      <td>765</td>\n      <td>6.0</td>\n      <td>2.0</td>\n      <td>73.5</td>\n      <td>22.0</td>\n      <td>Broken Clouds</td>\n      <td>0.0</td>\n      <td>0.0</td>\n      <td>winter</td>\n    </tr>\n    <tr>\n      <th>17405</th>\n      <td>2017-01-03 15:00:00</td>\n      <td>845</td>\n      <td>6.0</td>\n      <td>2.0</td>\n      <td>71.0</td>\n      <td>27.0</td>\n      <td>Cloudy</td>\n      <td>0.0</td>\n      <td>0.0</td>\n      <td>winter</td>\n    </tr>\n    <tr>\n      <th>17406</th>\n      <td>2017-01-03 16:00:00</td>\n      <td>1201</td>\n      <td>6.0</td>\n      <td>2.0</td>\n      <td>71.0</td>\n      <td>26.0</td>\n      <td>Cloudy</td>\n      <td>0.0</td>\n      <td>0.0</td>\n      <td>winter</td>\n    </tr>\n    <tr>\n      <th>17407</th>\n      <td>2017-01-03 17:00:00</td>\n      <td>2742</td>\n      <td>6.0</td>\n      <td>2.0</td>\n      <td>73.5</td>\n      <td>21.0</td>\n      <td>Broken Clouds</td>\n      <td>0.0</td>\n      <td>0.0</td>\n      <td>winter</td>\n    </tr>\n    <tr>\n      <th>17408</th>\n      <td>2017-01-03 18:00:00</td>\n      <td>2220</td>\n      <td>5.0</td>\n      <td>1.0</td>\n      <td>81.0</td>\n      <td>22.0</td>\n      <td>scattered clouds</td>\n      <td>0.0</td>\n      <td>0.0</td>\n      <td>winter</td>\n    </tr>\n    <tr>\n      <th>17409</th>\n      <td>2017-01-03 19:00:00</td>\n      <td>1042</td>\n      <td>5.0</td>\n      <td>1.0</td>\n      <td>81.0</td>\n      <td>19.0</td>\n      <td>Broken Clouds</td>\n      <td>0.0</td>\n      <td>0.0</td>\n      <td>winter</td>\n    </tr>\n    <tr>\n      <th>17410</th>\n      <td>2017-01-03 20:00:00</td>\n      <td>541</td>\n      <td>5.0</td>\n      <td>1.0</td>\n      <td>81.0</td>\n      <td>21.0</td>\n      <td>Cloudy</td>\n      <td>0.0</td>\n      <td>0.0</td>\n      <td>winter</td>\n    </tr>\n    <tr>\n      <th>17411</th>\n      <td>2017-01-03 21:00:00</td>\n      <td>337</td>\n      <td>5.5</td>\n      <td>1.5</td>\n      <td>78.5</td>\n      <td>24.0</td>\n      <td>Cloudy</td>\n      <td>0.0</td>\n      <td>0.0</td>\n      <td>winter</td>\n    </tr>\n    <tr>\n      <th>17412</th>\n      <td>2017-01-03 22:00:00</td>\n      <td>224</td>\n      <td>5.5</td>\n      <td>1.5</td>\n      <td>76.0</td>\n      <td>23.0</td>\n      <td>Cloudy</td>\n      <td>0.0</td>\n      <td>0.0</td>\n      <td>winter</td>\n    </tr>\n    <tr>\n      <th>17413</th>\n      <td>2017-01-03 23:00:00</td>\n      <td>139</td>\n      <td>5.0</td>\n      <td>1.0</td>\n      <td>76.0</td>\n      <td>22.0</td>\n      <td>scattered clouds</td>\n      <td>0.0</td>\n      <td>0.0</td>\n      <td>winter</td>\n    </tr>\n  </tbody>\n</table>\n</div>"
          },
          "metadata": {}
        }
      ]
    },
    {
      "cell_type": "code",
      "source": [
        "# Changing the humidity values to percentage:\n",
        "\n",
        "df.hum=df.hum/100"
      ],
      "metadata": {
        "execution": {
          "iopub.status.busy": "2024-05-08T16:06:18.751561Z",
          "iopub.execute_input": "2024-05-08T16:06:18.751865Z",
          "iopub.status.idle": "2024-05-08T16:06:18.756938Z",
          "shell.execute_reply.started": "2024-05-08T16:06:18.751839Z",
          "shell.execute_reply": "2024-05-08T16:06:18.755959Z"
        },
        "trusted": true,
        "id": "C-_ujVPaAP11"
      },
      "execution_count": null,
      "outputs": []
    },
    {
      "cell_type": "code",
      "source": [
        "df\n"
      ],
      "metadata": {
        "execution": {
          "iopub.status.busy": "2024-05-08T16:06:18.758001Z",
          "iopub.execute_input": "2024-05-08T16:06:18.758282Z",
          "iopub.status.idle": "2024-05-08T16:06:18.784678Z",
          "shell.execute_reply.started": "2024-05-08T16:06:18.758259Z",
          "shell.execute_reply": "2024-05-08T16:06:18.783492Z"
        },
        "trusted": true,
        "id": "bmkNCY_fAP11",
        "outputId": "28b0bad2-bd4e-4586-8cf5-6fe27cecc1b1"
      },
      "execution_count": null,
      "outputs": [
        {
          "execution_count": 19,
          "output_type": "execute_result",
          "data": {
            "text/plain": "                 timestamp   cnt   t1   t2    hum  wind_speed  \\\n0      2015-01-04 00:00:00   182  3.0  2.0  0.930         6.0   \n1      2015-01-04 01:00:00   138  3.0  2.5  0.930         5.0   \n2      2015-01-04 02:00:00   134  2.5  2.5  0.965         0.0   \n3      2015-01-04 03:00:00    72  2.0  2.0  1.000         0.0   \n4      2015-01-04 04:00:00    47  2.0  0.0  0.930         6.5   \n...                    ...   ...  ...  ...    ...         ...   \n17409  2017-01-03 19:00:00  1042  5.0  1.0  0.810        19.0   \n17410  2017-01-03 20:00:00   541  5.0  1.0  0.810        21.0   \n17411  2017-01-03 21:00:00   337  5.5  1.5  0.785        24.0   \n17412  2017-01-03 22:00:00   224  5.5  1.5  0.760        23.0   \n17413  2017-01-03 23:00:00   139  5.0  1.0  0.760        22.0   \n\n           weather_code  is_holiday  is_weekend  season  \n0         Broken Clouds         0.0         1.0  winter  \n1                 Clear         0.0         1.0  winter  \n2                 Clear         0.0         1.0  winter  \n3                 Clear         0.0         1.0  winter  \n4                 Clear         0.0         1.0  winter  \n...                 ...         ...         ...     ...  \n17409     Broken Clouds         0.0         0.0  winter  \n17410            Cloudy         0.0         0.0  winter  \n17411            Cloudy         0.0         0.0  winter  \n17412            Cloudy         0.0         0.0  winter  \n17413  scattered clouds         0.0         0.0  winter  \n\n[17414 rows x 10 columns]",
            "text/html": "<div>\n<style scoped>\n    .dataframe tbody tr th:only-of-type {\n        vertical-align: middle;\n    }\n\n    .dataframe tbody tr th {\n        vertical-align: top;\n    }\n\n    .dataframe thead th {\n        text-align: right;\n    }\n</style>\n<table border=\"1\" class=\"dataframe\">\n  <thead>\n    <tr style=\"text-align: right;\">\n      <th></th>\n      <th>timestamp</th>\n      <th>cnt</th>\n      <th>t1</th>\n      <th>t2</th>\n      <th>hum</th>\n      <th>wind_speed</th>\n      <th>weather_code</th>\n      <th>is_holiday</th>\n      <th>is_weekend</th>\n      <th>season</th>\n    </tr>\n  </thead>\n  <tbody>\n    <tr>\n      <th>0</th>\n      <td>2015-01-04 00:00:00</td>\n      <td>182</td>\n      <td>3.0</td>\n      <td>2.0</td>\n      <td>0.930</td>\n      <td>6.0</td>\n      <td>Broken Clouds</td>\n      <td>0.0</td>\n      <td>1.0</td>\n      <td>winter</td>\n    </tr>\n    <tr>\n      <th>1</th>\n      <td>2015-01-04 01:00:00</td>\n      <td>138</td>\n      <td>3.0</td>\n      <td>2.5</td>\n      <td>0.930</td>\n      <td>5.0</td>\n      <td>Clear</td>\n      <td>0.0</td>\n      <td>1.0</td>\n      <td>winter</td>\n    </tr>\n    <tr>\n      <th>2</th>\n      <td>2015-01-04 02:00:00</td>\n      <td>134</td>\n      <td>2.5</td>\n      <td>2.5</td>\n      <td>0.965</td>\n      <td>0.0</td>\n      <td>Clear</td>\n      <td>0.0</td>\n      <td>1.0</td>\n      <td>winter</td>\n    </tr>\n    <tr>\n      <th>3</th>\n      <td>2015-01-04 03:00:00</td>\n      <td>72</td>\n      <td>2.0</td>\n      <td>2.0</td>\n      <td>1.000</td>\n      <td>0.0</td>\n      <td>Clear</td>\n      <td>0.0</td>\n      <td>1.0</td>\n      <td>winter</td>\n    </tr>\n    <tr>\n      <th>4</th>\n      <td>2015-01-04 04:00:00</td>\n      <td>47</td>\n      <td>2.0</td>\n      <td>0.0</td>\n      <td>0.930</td>\n      <td>6.5</td>\n      <td>Clear</td>\n      <td>0.0</td>\n      <td>1.0</td>\n      <td>winter</td>\n    </tr>\n    <tr>\n      <th>...</th>\n      <td>...</td>\n      <td>...</td>\n      <td>...</td>\n      <td>...</td>\n      <td>...</td>\n      <td>...</td>\n      <td>...</td>\n      <td>...</td>\n      <td>...</td>\n      <td>...</td>\n    </tr>\n    <tr>\n      <th>17409</th>\n      <td>2017-01-03 19:00:00</td>\n      <td>1042</td>\n      <td>5.0</td>\n      <td>1.0</td>\n      <td>0.810</td>\n      <td>19.0</td>\n      <td>Broken Clouds</td>\n      <td>0.0</td>\n      <td>0.0</td>\n      <td>winter</td>\n    </tr>\n    <tr>\n      <th>17410</th>\n      <td>2017-01-03 20:00:00</td>\n      <td>541</td>\n      <td>5.0</td>\n      <td>1.0</td>\n      <td>0.810</td>\n      <td>21.0</td>\n      <td>Cloudy</td>\n      <td>0.0</td>\n      <td>0.0</td>\n      <td>winter</td>\n    </tr>\n    <tr>\n      <th>17411</th>\n      <td>2017-01-03 21:00:00</td>\n      <td>337</td>\n      <td>5.5</td>\n      <td>1.5</td>\n      <td>0.785</td>\n      <td>24.0</td>\n      <td>Cloudy</td>\n      <td>0.0</td>\n      <td>0.0</td>\n      <td>winter</td>\n    </tr>\n    <tr>\n      <th>17412</th>\n      <td>2017-01-03 22:00:00</td>\n      <td>224</td>\n      <td>5.5</td>\n      <td>1.5</td>\n      <td>0.760</td>\n      <td>23.0</td>\n      <td>Cloudy</td>\n      <td>0.0</td>\n      <td>0.0</td>\n      <td>winter</td>\n    </tr>\n    <tr>\n      <th>17413</th>\n      <td>2017-01-03 23:00:00</td>\n      <td>139</td>\n      <td>5.0</td>\n      <td>1.0</td>\n      <td>0.760</td>\n      <td>22.0</td>\n      <td>scattered clouds</td>\n      <td>0.0</td>\n      <td>0.0</td>\n      <td>winter</td>\n    </tr>\n  </tbody>\n</table>\n<p>17414 rows × 10 columns</p>\n</div>"
          },
          "metadata": {}
        }
      ]
    },
    {
      "cell_type": "code",
      "source": [
        "# Writing the final data frame to an excel file that we will use in our Tableau Visualisation:\n",
        "\n",
        "df.to_excel('london_bikes_final.xlsx',sheet_name='Bike')"
      ],
      "metadata": {
        "execution": {
          "iopub.status.busy": "2024-05-08T16:06:18.785872Z",
          "iopub.execute_input": "2024-05-08T16:06:18.78628Z",
          "iopub.status.idle": "2024-05-08T16:06:26.488569Z",
          "shell.execute_reply.started": "2024-05-08T16:06:18.786251Z",
          "shell.execute_reply": "2024-05-08T16:06:26.487668Z"
        },
        "trusted": true,
        "id": "IDtgBUlOAP12"
      },
      "execution_count": null,
      "outputs": []
    },
    {
      "cell_type": "markdown",
      "source": [
        "# Tableau Dashboard:"
      ],
      "metadata": {
        "id": "DNgF_naTAP12"
      }
    },
    {
      "cell_type": "markdown",
      "source": [
        "### Here is the link to my Tableau Dashboard for the dataset:\n",
        "\n",
        "### https://public.tableau.com/views/londonBikesData/Dashboard1"
      ],
      "metadata": {
        "id": "p4vjlsSsAP12"
      }
    }
  ]
}