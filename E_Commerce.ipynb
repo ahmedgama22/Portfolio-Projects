{
  "metadata": {
    "kernelspec": {
      "language": "python",
      "display_name": "Python 3",
      "name": "python3"
    },
    "language_info": {
      "name": "python",
      "version": "3.10.13",
      "mimetype": "text/x-python",
      "codemirror_mode": {
        "name": "ipython",
        "version": 3
      },
      "pygments_lexer": "ipython3",
      "nbconvert_exporter": "python",
      "file_extension": ".py"
    },
    "kaggle": {
      "accelerator": "none",
      "dataSources": [
        {
          "sourceId": 4642886,
          "sourceType": "datasetVersion",
          "datasetId": 2699295
        }
      ],
      "dockerImageVersionId": 30698,
      "isInternetEnabled": true,
      "language": "python",
      "sourceType": "notebook",
      "isGpuEnabled": false
    },
    "colab": {
      "name": "E-Commerce",
      "provenance": [],
      "include_colab_link": true
    }
  },
  "nbformat_minor": 0,
  "nbformat": 4,
  "cells": [
    {
      "cell_type": "markdown",
      "metadata": {
        "id": "view-in-github",
        "colab_type": "text"
      },
      "source": [
        "<a href=\"https://colab.research.google.com/github/ahmedgama22/Portfolio-Projects/blob/main/E_Commerce.ipynb\" target=\"_parent\"><img src=\"https://colab.research.google.com/assets/colab-badge.svg\" alt=\"Open In Colab\"/></a>"
      ]
    },
    {
      "source": [
        "\n",
        "# IMPORTANT: RUN THIS CELL IN ORDER TO IMPORT YOUR KAGGLE DATA SOURCES\n",
        "# TO THE CORRECT LOCATION (/kaggle/input) IN YOUR NOTEBOOK,\n",
        "# THEN FEEL FREE TO DELETE THIS CELL.\n",
        "# NOTE: THIS NOTEBOOK ENVIRONMENT DIFFERS FROM KAGGLE'S PYTHON\n",
        "# ENVIRONMENT SO THERE MAY BE MISSING LIBRARIES USED BY YOUR\n",
        "# NOTEBOOK.\n",
        "\n",
        "import os\n",
        "import sys\n",
        "from tempfile import NamedTemporaryFile\n",
        "from urllib.request import urlopen\n",
        "from urllib.parse import unquote, urlparse\n",
        "from urllib.error import HTTPError\n",
        "from zipfile import ZipFile\n",
        "import tarfile\n",
        "import shutil\n",
        "\n",
        "CHUNK_SIZE = 40960\n",
        "DATA_SOURCE_MAPPING = 'unlock-profits-with-e-commerce-sales-data:https%3A%2F%2Fstorage.googleapis.com%2Fkaggle-data-sets%2F2699295%2F4642886%2Fbundle%2Farchive.zip%3FX-Goog-Algorithm%3DGOOG4-RSA-SHA256%26X-Goog-Credential%3Dgcp-kaggle-com%2540kaggle-161607.iam.gserviceaccount.com%252F20240509%252Fauto%252Fstorage%252Fgoog4_request%26X-Goog-Date%3D20240509T165529Z%26X-Goog-Expires%3D259200%26X-Goog-SignedHeaders%3Dhost%26X-Goog-Signature%3D4dea474c497fb64823bcaa3c66feedd587063943d0c5f01f78725aafef4b12702d51b9d418f5678f84ac98c4e8d5c080cdb8fa81f6825fbfa6ac5d9dafe075d01516eb5d2f4123c578e7ab6f93d58ee59375c021cd08a2c22618c085fce3960c50b58213d7e4195af045e3b5aa2f50fc9f227d6e3d5ea5d1aff6c448dd80338b7ec5febd2a9201a179ad101c550848fc36cf0a7d3aa1ab3e05dc899c309f3fa23e097ce2b2bec2d2e4f490c65675f581fadcf22eda6ead9b8cbfef50a501568f3eb503d72d3ff18721069c5054b104a0b82f65309701766d859333a1076b1b70002762aca0e2800b1a8816812027019d4e9dc9d34f80a7a583a7eeac2b10d5f0'\n",
        "\n",
        "KAGGLE_INPUT_PATH='/kaggle/input'\n",
        "KAGGLE_WORKING_PATH='/kaggle/working'\n",
        "KAGGLE_SYMLINK='kaggle'\n",
        "\n",
        "!umount /kaggle/input/ 2> /dev/null\n",
        "shutil.rmtree('/kaggle/input', ignore_errors=True)\n",
        "os.makedirs(KAGGLE_INPUT_PATH, 0o777, exist_ok=True)\n",
        "os.makedirs(KAGGLE_WORKING_PATH, 0o777, exist_ok=True)\n",
        "\n",
        "try:\n",
        "  os.symlink(KAGGLE_INPUT_PATH, os.path.join(\"..\", 'input'), target_is_directory=True)\n",
        "except FileExistsError:\n",
        "  pass\n",
        "try:\n",
        "  os.symlink(KAGGLE_WORKING_PATH, os.path.join(\"..\", 'working'), target_is_directory=True)\n",
        "except FileExistsError:\n",
        "  pass\n",
        "\n",
        "for data_source_mapping in DATA_SOURCE_MAPPING.split(','):\n",
        "    directory, download_url_encoded = data_source_mapping.split(':')\n",
        "    download_url = unquote(download_url_encoded)\n",
        "    filename = urlparse(download_url).path\n",
        "    destination_path = os.path.join(KAGGLE_INPUT_PATH, directory)\n",
        "    try:\n",
        "        with urlopen(download_url) as fileres, NamedTemporaryFile() as tfile:\n",
        "            total_length = fileres.headers['content-length']\n",
        "            print(f'Downloading {directory}, {total_length} bytes compressed')\n",
        "            dl = 0\n",
        "            data = fileres.read(CHUNK_SIZE)\n",
        "            while len(data) > 0:\n",
        "                dl += len(data)\n",
        "                tfile.write(data)\n",
        "                done = int(50 * dl / int(total_length))\n",
        "                sys.stdout.write(f\"\\r[{'=' * done}{' ' * (50-done)}] {dl} bytes downloaded\")\n",
        "                sys.stdout.flush()\n",
        "                data = fileres.read(CHUNK_SIZE)\n",
        "            if filename.endswith('.zip'):\n",
        "              with ZipFile(tfile) as zfile:\n",
        "                zfile.extractall(destination_path)\n",
        "            else:\n",
        "              with tarfile.open(tfile.name) as tarfile:\n",
        "                tarfile.extractall(destination_path)\n",
        "            print(f'\\nDownloaded and uncompressed: {directory}')\n",
        "    except HTTPError as e:\n",
        "        print(f'Failed to load (likely expired) {download_url} to path {destination_path}')\n",
        "        continue\n",
        "    except OSError as e:\n",
        "        print(f'Failed to load {download_url} to path {destination_path}')\n",
        "        continue\n",
        "\n",
        "print('Data source import complete.')\n"
      ],
      "metadata": {
        "id": "saPthLLzSBpH"
      },
      "cell_type": "code",
      "outputs": [],
      "execution_count": null
    },
    {
      "cell_type": "markdown",
      "source": [
        "# About the data:\n",
        "This dataset provides an in-depth look at the profitability of e-commerce sales. It contains data on a variety of sales channels, including Shiprocket and INCREFF, as well as financial information on related expenses and profits. The columns contain data such as SKU codes, design numbers, stock levels, product categories, sizes and colors. In addition to this we have included the MRPs across Amazon MRP , Amazon FBA MRP along with other key parameters like amount paid by customer for the purchase , rate per piece for every individual transaction Also we have added transactional parameters like Date of sale months category fulfilledby B2b Status Qty Currency Gross amt . This is a must-have dataset for anyone trying to uncover the profitability of e-commerce sales in today's marketplace"
      ],
      "metadata": {
        "id": "qii44F-ySBpP"
      }
    },
    {
      "cell_type": "markdown",
      "source": [
        "# Importing Packages:"
      ],
      "metadata": {
        "id": "MlbhpNhcSBpT"
      }
    },
    {
      "cell_type": "code",
      "source": [
        "# This Python 3 environment comes with many helpful analytics libraries installed\n",
        "# It is defined by the kaggle/python Docker image: https://github.com/kaggle/docker-python\n",
        "# For example, here's several helpful packages to load\n",
        "\n",
        "import numpy as np # linear algebra\n",
        "import pandas as pd # data processing, CSV file I/O (e.g. pd.read_csv)\n",
        "\n",
        "# Input data files are available in the read-only \"../input/\" directory\n",
        "# For example, running this (by clicking run or pressing Shift+Enter) will list all files under the input directory\n",
        "\n",
        "import os\n",
        "for dirname, _, filenames in os.walk('/kaggle/input'):\n",
        "    for filename in filenames:\n",
        "        print(os.path.join(dirname, filename))\n",
        "\n",
        "# You can write up to 20GB to the current directory (/kaggle/working/) that gets preserved as output when you create a version using \"Save & Run All\"\n",
        "# You can also write temporary files to /kaggle/temp/, but they won't be saved outside of the current session"
      ],
      "metadata": {
        "_uuid": "8f2839f25d086af736a60e9eeb907d3b93b6e0e5",
        "_cell_guid": "b1076dfc-b9ad-4769-8c92-a6c4dae69d19",
        "execution": {
          "iopub.status.busy": "2024-05-09T16:03:22.602397Z",
          "iopub.execute_input": "2024-05-09T16:03:22.60282Z",
          "iopub.status.idle": "2024-05-09T16:03:23.765762Z",
          "shell.execute_reply.started": "2024-05-09T16:03:22.602784Z",
          "shell.execute_reply": "2024-05-09T16:03:23.764363Z"
        },
        "trusted": true,
        "id": "GWiciVvPSBpT"
      },
      "execution_count": null,
      "outputs": []
    },
    {
      "cell_type": "code",
      "source": [
        "import pandas as pd\n",
        "import matplotlib.pyplot as plt\n",
        "plt.style.use(\"ggplot\")\n",
        "import seaborn as sns\n",
        "import warnings\n",
        "warnings.filterwarnings('ignore')"
      ],
      "metadata": {
        "execution": {
          "iopub.status.busy": "2024-05-09T16:03:23.767608Z",
          "iopub.execute_input": "2024-05-09T16:03:23.768127Z",
          "iopub.status.idle": "2024-05-09T16:03:25.330809Z",
          "shell.execute_reply.started": "2024-05-09T16:03:23.768061Z",
          "shell.execute_reply": "2024-05-09T16:03:25.329734Z"
        },
        "trusted": true,
        "id": "Cg3U3rSESBpV"
      },
      "execution_count": null,
      "outputs": []
    },
    {
      "cell_type": "markdown",
      "source": [
        "# Reading the data:"
      ],
      "metadata": {
        "id": "WEsKKklPSBpW"
      }
    },
    {
      "cell_type": "code",
      "source": [
        "df=pd.read_csv('/kaggle/input/unlock-profits-with-e-commerce-sales-data/Amazon Sale Report.csv')"
      ],
      "metadata": {
        "execution": {
          "iopub.status.busy": "2024-05-09T16:03:25.332195Z",
          "iopub.execute_input": "2024-05-09T16:03:25.332479Z",
          "iopub.status.idle": "2024-05-09T16:03:27.11515Z",
          "shell.execute_reply.started": "2024-05-09T16:03:25.332454Z",
          "shell.execute_reply": "2024-05-09T16:03:27.114015Z"
        },
        "trusted": true,
        "id": "dLS4LtrFSBpX"
      },
      "execution_count": null,
      "outputs": []
    },
    {
      "cell_type": "code",
      "source": [
        "df"
      ],
      "metadata": {
        "execution": {
          "iopub.status.busy": "2024-05-09T16:03:27.116451Z",
          "iopub.execute_input": "2024-05-09T16:03:27.117175Z",
          "iopub.status.idle": "2024-05-09T16:03:27.286124Z",
          "shell.execute_reply.started": "2024-05-09T16:03:27.117139Z",
          "shell.execute_reply": "2024-05-09T16:03:27.284915Z"
        },
        "trusted": true,
        "id": "L1lXlarjSBpY"
      },
      "execution_count": null,
      "outputs": []
    },
    {
      "cell_type": "markdown",
      "source": [
        "# Processing and Cleaning the data:"
      ],
      "metadata": {
        "id": "Jb0ZQCweSBpa"
      }
    },
    {
      "cell_type": "code",
      "source": [
        "df.info()\n"
      ],
      "metadata": {
        "execution": {
          "iopub.status.busy": "2024-05-09T16:03:27.289213Z",
          "iopub.execute_input": "2024-05-09T16:03:27.289587Z",
          "iopub.status.idle": "2024-05-09T16:03:27.623465Z",
          "shell.execute_reply.started": "2024-05-09T16:03:27.289556Z",
          "shell.execute_reply": "2024-05-09T16:03:27.622676Z"
        },
        "trusted": true,
        "id": "A3VFZQ0nSBpb"
      },
      "execution_count": null,
      "outputs": []
    },
    {
      "cell_type": "code",
      "source": [
        "df.describe()"
      ],
      "metadata": {
        "execution": {
          "iopub.status.busy": "2024-05-09T16:03:27.62469Z",
          "iopub.execute_input": "2024-05-09T16:03:27.625407Z",
          "iopub.status.idle": "2024-05-09T16:03:27.670947Z",
          "shell.execute_reply.started": "2024-05-09T16:03:27.625374Z",
          "shell.execute_reply": "2024-05-09T16:03:27.66982Z"
        },
        "trusted": true,
        "id": "1nWzn31QSBpc"
      },
      "execution_count": null,
      "outputs": []
    },
    {
      "cell_type": "code",
      "source": [
        "df.shape"
      ],
      "metadata": {
        "execution": {
          "iopub.status.busy": "2024-05-09T16:03:27.672401Z",
          "iopub.execute_input": "2024-05-09T16:03:27.672741Z",
          "iopub.status.idle": "2024-05-09T16:03:27.680349Z",
          "shell.execute_reply.started": "2024-05-09T16:03:27.672711Z",
          "shell.execute_reply": "2024-05-09T16:03:27.679031Z"
        },
        "trusted": true,
        "id": "JgxhZ_bLSBpd"
      },
      "execution_count": null,
      "outputs": []
    },
    {
      "cell_type": "code",
      "source": [
        "df.head(10)"
      ],
      "metadata": {
        "execution": {
          "iopub.status.busy": "2024-05-09T16:03:27.681686Z",
          "iopub.execute_input": "2024-05-09T16:03:27.682431Z",
          "iopub.status.idle": "2024-05-09T16:03:27.714953Z",
          "shell.execute_reply.started": "2024-05-09T16:03:27.6824Z",
          "shell.execute_reply": "2024-05-09T16:03:27.714Z"
        },
        "trusted": true,
        "id": "Ih2pK3IzSBpd"
      },
      "execution_count": null,
      "outputs": []
    },
    {
      "cell_type": "code",
      "source": [
        "df.tail(20)"
      ],
      "metadata": {
        "execution": {
          "iopub.status.busy": "2024-05-09T16:03:27.716568Z",
          "iopub.execute_input": "2024-05-09T16:03:27.717027Z",
          "iopub.status.idle": "2024-05-09T16:03:27.757238Z",
          "shell.execute_reply.started": "2024-05-09T16:03:27.716993Z",
          "shell.execute_reply": "2024-05-09T16:03:27.755869Z"
        },
        "trusted": true,
        "id": "KKs5ko_sSBpe"
      },
      "execution_count": null,
      "outputs": []
    },
    {
      "cell_type": "code",
      "source": [
        "# checking if there is any duplicate in the data:\n",
        "\n",
        "df.duplicated().sum()"
      ],
      "metadata": {
        "execution": {
          "iopub.status.busy": "2024-05-09T16:03:27.759457Z",
          "iopub.execute_input": "2024-05-09T16:03:27.759994Z",
          "iopub.status.idle": "2024-05-09T16:03:28.143802Z",
          "shell.execute_reply.started": "2024-05-09T16:03:27.759961Z",
          "shell.execute_reply": "2024-05-09T16:03:28.142472Z"
        },
        "trusted": true,
        "id": "XrAd0CgHSBpe"
      },
      "execution_count": null,
      "outputs": []
    },
    {
      "cell_type": "code",
      "source": [
        "# check for unknown values in the data:\n",
        "\n",
        "df.isna().sum()"
      ],
      "metadata": {
        "execution": {
          "iopub.status.busy": "2024-05-09T16:03:28.145248Z",
          "iopub.execute_input": "2024-05-09T16:03:28.145649Z",
          "iopub.status.idle": "2024-05-09T16:03:28.413463Z",
          "shell.execute_reply.started": "2024-05-09T16:03:28.145616Z",
          "shell.execute_reply": "2024-05-09T16:03:28.412336Z"
        },
        "trusted": true,
        "id": "MMI-eCxoSBpe"
      },
      "execution_count": null,
      "outputs": []
    },
    {
      "cell_type": "code",
      "source": [
        "df.columns"
      ],
      "metadata": {
        "execution": {
          "iopub.status.busy": "2024-05-09T16:03:28.414843Z",
          "iopub.execute_input": "2024-05-09T16:03:28.415543Z",
          "iopub.status.idle": "2024-05-09T16:03:28.424483Z",
          "shell.execute_reply.started": "2024-05-09T16:03:28.415501Z",
          "shell.execute_reply": "2024-05-09T16:03:28.42323Z"
        },
        "trusted": true,
        "id": "IDnQrl7lSBpf"
      },
      "execution_count": null,
      "outputs": []
    },
    {
      "cell_type": "code",
      "source": [
        "# Dropping columns from the dataframe:\n",
        "\n",
        "df=df.drop(columns=['Unnamed: 22','fulfilled-by','Sales Channel ','currency','ship-country'],axis=1)"
      ],
      "metadata": {
        "execution": {
          "iopub.status.busy": "2024-05-09T16:03:28.425909Z",
          "iopub.execute_input": "2024-05-09T16:03:28.426317Z",
          "iopub.status.idle": "2024-05-09T16:03:28.451054Z",
          "shell.execute_reply.started": "2024-05-09T16:03:28.426285Z",
          "shell.execute_reply": "2024-05-09T16:03:28.449537Z"
        },
        "trusted": true,
        "id": "cgnG6N3bSBpf"
      },
      "execution_count": null,
      "outputs": []
    },
    {
      "cell_type": "code",
      "source": [
        "# check for dataframe columns:\n",
        "\n",
        "df"
      ],
      "metadata": {
        "execution": {
          "iopub.status.busy": "2024-05-09T16:03:28.456198Z",
          "iopub.execute_input": "2024-05-09T16:03:28.456558Z",
          "iopub.status.idle": "2024-05-09T16:03:28.485029Z",
          "shell.execute_reply.started": "2024-05-09T16:03:28.456529Z",
          "shell.execute_reply": "2024-05-09T16:03:28.483732Z"
        },
        "trusted": true,
        "id": "e6yaD0PVSBpf"
      },
      "execution_count": null,
      "outputs": []
    },
    {
      "cell_type": "markdown",
      "source": [
        "## Filling unknown values:"
      ],
      "metadata": {
        "id": "Gxp8vfuASBpg"
      }
    },
    {
      "cell_type": "code",
      "source": [
        "df['Courier Status']=df['Courier Status'].fillna('unknown')"
      ],
      "metadata": {
        "execution": {
          "iopub.status.busy": "2024-05-09T16:03:28.486457Z",
          "iopub.execute_input": "2024-05-09T16:03:28.486779Z",
          "iopub.status.idle": "2024-05-09T16:03:28.511241Z",
          "shell.execute_reply.started": "2024-05-09T16:03:28.486743Z",
          "shell.execute_reply": "2024-05-09T16:03:28.50989Z"
        },
        "trusted": true,
        "id": "lrJQ_yhWSBpg"
      },
      "execution_count": null,
      "outputs": []
    },
    {
      "cell_type": "code",
      "source": [
        "df['Amount']=df['Amount'].fillna('0')"
      ],
      "metadata": {
        "execution": {
          "iopub.status.busy": "2024-05-09T16:03:28.51296Z",
          "iopub.execute_input": "2024-05-09T16:03:28.514229Z",
          "iopub.status.idle": "2024-05-09T16:03:28.535752Z",
          "shell.execute_reply.started": "2024-05-09T16:03:28.514187Z",
          "shell.execute_reply": "2024-05-09T16:03:28.534417Z"
        },
        "trusted": true,
        "id": "YEKeWW3hSBpg"
      },
      "execution_count": null,
      "outputs": []
    },
    {
      "cell_type": "code",
      "source": [
        "df['ship-city'].fillna('unknown',inplace=True)"
      ],
      "metadata": {
        "execution": {
          "iopub.status.busy": "2024-05-09T16:03:28.537456Z",
          "iopub.execute_input": "2024-05-09T16:03:28.537903Z",
          "iopub.status.idle": "2024-05-09T16:03:28.563822Z",
          "shell.execute_reply.started": "2024-05-09T16:03:28.537865Z",
          "shell.execute_reply": "2024-05-09T16:03:28.56256Z"
        },
        "trusted": true,
        "id": "swduRbHcSBph"
      },
      "execution_count": null,
      "outputs": []
    },
    {
      "cell_type": "code",
      "source": [
        "df['ship-state'].fillna('unknown',inplace=True)"
      ],
      "metadata": {
        "execution": {
          "iopub.status.busy": "2024-05-09T16:03:28.565316Z",
          "iopub.execute_input": "2024-05-09T16:03:28.566235Z",
          "iopub.status.idle": "2024-05-09T16:03:28.588099Z",
          "shell.execute_reply.started": "2024-05-09T16:03:28.566193Z",
          "shell.execute_reply": "2024-05-09T16:03:28.586827Z"
        },
        "trusted": true,
        "id": "cZyX2wTwSBph"
      },
      "execution_count": null,
      "outputs": []
    },
    {
      "cell_type": "code",
      "source": [
        "df['ship-postal-code'].fillna('unknown',inplace=True)"
      ],
      "metadata": {
        "execution": {
          "iopub.status.busy": "2024-05-09T16:03:28.589563Z",
          "iopub.execute_input": "2024-05-09T16:03:28.58999Z",
          "iopub.status.idle": "2024-05-09T16:03:28.606844Z",
          "shell.execute_reply.started": "2024-05-09T16:03:28.589951Z",
          "shell.execute_reply": "2024-05-09T16:03:28.605508Z"
        },
        "trusted": true,
        "id": "5E6t_pXDSBph"
      },
      "execution_count": null,
      "outputs": []
    },
    {
      "cell_type": "code",
      "source": [
        "df['promotion-ids'].fillna('no_promotion',inplace=True)"
      ],
      "metadata": {
        "execution": {
          "iopub.status.busy": "2024-05-09T16:03:28.608469Z",
          "iopub.execute_input": "2024-05-09T16:03:28.608946Z",
          "iopub.status.idle": "2024-05-09T16:03:28.630452Z",
          "shell.execute_reply.started": "2024-05-09T16:03:28.608902Z",
          "shell.execute_reply": "2024-05-09T16:03:28.62943Z"
        },
        "trusted": true,
        "id": "7pq-R0J3SBph"
      },
      "execution_count": null,
      "outputs": []
    },
    {
      "cell_type": "code",
      "source": [
        "# checking the dataframe after filling unknown values:\n",
        "\n",
        "df.head(30)"
      ],
      "metadata": {
        "execution": {
          "iopub.status.busy": "2024-05-09T16:03:28.631855Z",
          "iopub.execute_input": "2024-05-09T16:03:28.632298Z",
          "iopub.status.idle": "2024-05-09T16:03:28.670427Z",
          "shell.execute_reply.started": "2024-05-09T16:03:28.632256Z",
          "shell.execute_reply": "2024-05-09T16:03:28.669103Z"
        },
        "trusted": true,
        "id": "2JQxCI1pSBph"
      },
      "execution_count": null,
      "outputs": []
    },
    {
      "cell_type": "code",
      "source": [
        "# Currency Exchange from INR to US Dollar:\n",
        "\n",
        "df['Amount'] = pd.to_numeric(df['Amount'], errors='coerce')\n",
        "exchange_rate= 0.012\n",
        "df['Amount']=df['Amount'].apply(lambda x: x * exchange_rate)"
      ],
      "metadata": {
        "execution": {
          "iopub.status.busy": "2024-05-09T16:03:28.671964Z",
          "iopub.execute_input": "2024-05-09T16:03:28.672415Z",
          "iopub.status.idle": "2024-05-09T16:03:28.773696Z",
          "shell.execute_reply.started": "2024-05-09T16:03:28.672373Z",
          "shell.execute_reply": "2024-05-09T16:03:28.772461Z"
        },
        "trusted": true,
        "id": "gdbNjVWOSBpi"
      },
      "execution_count": null,
      "outputs": []
    },
    {
      "cell_type": "code",
      "source": [
        "# Replacing the values from (True,False) to (business,customer):\n",
        "\n",
        "df['B2B'].replace(to_replace=[True,False],value=['business','customer'],inplace=True)"
      ],
      "metadata": {
        "execution": {
          "iopub.status.busy": "2024-05-09T16:03:28.774929Z",
          "iopub.execute_input": "2024-05-09T16:03:28.775255Z",
          "iopub.status.idle": "2024-05-09T16:03:28.788746Z",
          "shell.execute_reply.started": "2024-05-09T16:03:28.775227Z",
          "shell.execute_reply": "2024-05-09T16:03:28.787497Z"
        },
        "trusted": true,
        "id": "cTYXoK4HSBpi"
      },
      "execution_count": null,
      "outputs": []
    },
    {
      "cell_type": "code",
      "source": [
        "# Converting the data type to datetime type:\n",
        "\n",
        "df['Date'] = pd.to_datetime(df['Date'])\n",
        "df['month']=df['Date'].dt.month\n",
        "df['month'].unique()\n"
      ],
      "metadata": {
        "execution": {
          "iopub.status.busy": "2024-05-09T16:03:28.79077Z",
          "iopub.execute_input": "2024-05-09T16:03:28.791283Z",
          "iopub.status.idle": "2024-05-09T16:03:28.844747Z",
          "shell.execute_reply.started": "2024-05-09T16:03:28.791241Z",
          "shell.execute_reply": "2024-05-09T16:03:28.843375Z"
        },
        "trusted": true,
        "id": "EtfOeChBSBpi"
      },
      "execution_count": null,
      "outputs": []
    },
    {
      "cell_type": "code",
      "source": [
        "# naming the months:\n",
        "\n",
        "months= ['March','April','May','June']\n",
        "df['month'].replace([3,4,5,6],months,inplace=True)"
      ],
      "metadata": {
        "execution": {
          "iopub.status.busy": "2024-05-09T16:03:28.846897Z",
          "iopub.execute_input": "2024-05-09T16:03:28.847274Z",
          "iopub.status.idle": "2024-05-09T16:03:28.884844Z",
          "shell.execute_reply.started": "2024-05-09T16:03:28.84724Z",
          "shell.execute_reply": "2024-05-09T16:03:28.883787Z"
        },
        "trusted": true,
        "id": "TbspLgFVSBpi"
      },
      "execution_count": null,
      "outputs": []
    },
    {
      "cell_type": "code",
      "source": [
        "df['Date'].min()"
      ],
      "metadata": {
        "execution": {
          "iopub.status.busy": "2024-05-09T16:03:28.886035Z",
          "iopub.execute_input": "2024-05-09T16:03:28.886361Z",
          "iopub.status.idle": "2024-05-09T16:03:28.89434Z",
          "shell.execute_reply.started": "2024-05-09T16:03:28.886335Z",
          "shell.execute_reply": "2024-05-09T16:03:28.893179Z"
        },
        "trusted": true,
        "id": "LcCrJI-dSBpi"
      },
      "execution_count": null,
      "outputs": []
    },
    {
      "cell_type": "code",
      "source": [
        "df['Date'].max()"
      ],
      "metadata": {
        "execution": {
          "iopub.status.busy": "2024-05-09T16:03:28.895825Z",
          "iopub.execute_input": "2024-05-09T16:03:28.896393Z",
          "iopub.status.idle": "2024-05-09T16:03:28.90405Z",
          "shell.execute_reply.started": "2024-05-09T16:03:28.896362Z",
          "shell.execute_reply": "2024-05-09T16:03:28.902866Z"
        },
        "trusted": true,
        "id": "tI5h03-OSBpj"
      },
      "execution_count": null,
      "outputs": []
    },
    {
      "cell_type": "code",
      "source": [
        "# checking the dataframe:\n",
        "\n",
        "df.head()"
      ],
      "metadata": {
        "execution": {
          "iopub.status.busy": "2024-05-09T16:03:28.906031Z",
          "iopub.execute_input": "2024-05-09T16:03:28.906938Z",
          "iopub.status.idle": "2024-05-09T16:03:28.932383Z",
          "shell.execute_reply.started": "2024-05-09T16:03:28.906905Z",
          "shell.execute_reply": "2024-05-09T16:03:28.931142Z"
        },
        "trusted": true,
        "id": "HRHkAtdnSBpj"
      },
      "execution_count": null,
      "outputs": []
    },
    {
      "cell_type": "code",
      "source": [
        "df.columns"
      ],
      "metadata": {
        "execution": {
          "iopub.status.busy": "2024-05-09T16:03:28.933801Z",
          "iopub.execute_input": "2024-05-09T16:03:28.934209Z",
          "iopub.status.idle": "2024-05-09T16:03:28.942311Z",
          "shell.execute_reply.started": "2024-05-09T16:03:28.934178Z",
          "shell.execute_reply": "2024-05-09T16:03:28.941287Z"
        },
        "trusted": true,
        "id": "5nNSTC8ySBpj"
      },
      "execution_count": null,
      "outputs": []
    },
    {
      "cell_type": "code",
      "source": [
        "# converting the datatype to numeric:\n",
        "\n",
        "df['Amount'] = pd.to_numeric(df['Amount'], errors='coerce')"
      ],
      "metadata": {
        "execution": {
          "iopub.status.busy": "2024-05-09T16:03:28.943619Z",
          "iopub.execute_input": "2024-05-09T16:03:28.943931Z",
          "iopub.status.idle": "2024-05-09T16:03:28.95154Z",
          "shell.execute_reply.started": "2024-05-09T16:03:28.943903Z",
          "shell.execute_reply": "2024-05-09T16:03:28.950534Z"
        },
        "trusted": true,
        "id": "tbYyMHoBSBpj"
      },
      "execution_count": null,
      "outputs": []
    },
    {
      "cell_type": "code",
      "source": [
        "# Grouping the dataframe by sum of  ('Category')['Amount'] in descending order:\n",
        "\n",
        "category_order = df.groupby('Category')['Amount'].sum().sort_values(ascending=False).reset_index()"
      ],
      "metadata": {
        "execution": {
          "iopub.status.busy": "2024-05-09T16:03:28.95344Z",
          "iopub.execute_input": "2024-05-09T16:03:28.953872Z",
          "iopub.status.idle": "2024-05-09T16:03:28.980198Z",
          "shell.execute_reply.started": "2024-05-09T16:03:28.953833Z",
          "shell.execute_reply": "2024-05-09T16:03:28.979199Z"
        },
        "trusted": true,
        "id": "uNCL3rTgSBpj"
      },
      "execution_count": null,
      "outputs": []
    },
    {
      "cell_type": "markdown",
      "source": [
        "# Analysis and Visualization:"
      ],
      "metadata": {
        "id": "5mkqp4jTSBpk"
      }
    },
    {
      "cell_type": "code",
      "source": [
        "# Business Type by Amount:\n",
        "\n",
        "sns.boxplot(x='B2B', y='Amount', data=df, palette= 'plasma')\n",
        "plt.title('Sales by Business Type')\n",
        "plt.xlabel('Customer Type')\n",
        "plt.ylabel('Amount')\n",
        "plt.tight_layout()\n",
        "plt.show()\n",
        "\n",
        "## Sales of B to C is higher than B to B."
      ],
      "metadata": {
        "execution": {
          "iopub.status.busy": "2024-05-09T16:03:28.981653Z",
          "iopub.execute_input": "2024-05-09T16:03:28.982358Z",
          "iopub.status.idle": "2024-05-09T16:03:29.481383Z",
          "shell.execute_reply.started": "2024-05-09T16:03:28.982314Z",
          "shell.execute_reply": "2024-05-09T16:03:29.480326Z"
        },
        "trusted": true,
        "id": "rkdjXezqSBpk"
      },
      "execution_count": null,
      "outputs": []
    },
    {
      "cell_type": "code",
      "source": [
        "df['Category'].unique()"
      ],
      "metadata": {
        "execution": {
          "iopub.status.busy": "2024-05-09T16:03:29.482551Z",
          "iopub.execute_input": "2024-05-09T16:03:29.482876Z",
          "iopub.status.idle": "2024-05-09T16:03:29.501281Z",
          "shell.execute_reply.started": "2024-05-09T16:03:29.482847Z",
          "shell.execute_reply": "2024-05-09T16:03:29.50015Z"
        },
        "trusted": true,
        "id": "QHLCJ6ZeSBp8"
      },
      "execution_count": null,
      "outputs": []
    },
    {
      "cell_type": "code",
      "source": [
        "# Amount by Category:\n",
        "\n",
        "sns.barplot(x='Category',y='Amount',data=category_order,palette='plasma')\n",
        "plt.xlabel('Category')\n",
        "plt.ylabel('Amount')\n",
        "plt.title('Sales by Category')\n",
        "plt.xticks(rotation=45)\n",
        "plt.tight_layout()\n",
        "plt.show()\n",
        "\n",
        "## (Set) is the higher and (Dupatta) is the lowest.\n"
      ],
      "metadata": {
        "execution": {
          "iopub.status.busy": "2024-05-09T16:06:46.038725Z",
          "iopub.execute_input": "2024-05-09T16:06:46.03922Z",
          "iopub.status.idle": "2024-05-09T16:06:46.340264Z",
          "shell.execute_reply.started": "2024-05-09T16:06:46.039176Z",
          "shell.execute_reply": "2024-05-09T16:06:46.339239Z"
        },
        "trusted": true,
        "id": "OwAE65wZSBp9"
      },
      "execution_count": null,
      "outputs": []
    },
    {
      "cell_type": "code",
      "source": [
        "month_sum = df.groupby('month')['Amount'].sum().sort_values(ascending=False).reset_index()"
      ],
      "metadata": {
        "execution": {
          "iopub.status.busy": "2024-05-09T16:03:29.78145Z",
          "iopub.execute_input": "2024-05-09T16:03:29.78182Z",
          "iopub.status.idle": "2024-05-09T16:03:29.802736Z",
          "shell.execute_reply.started": "2024-05-09T16:03:29.78179Z",
          "shell.execute_reply": "2024-05-09T16:03:29.800941Z"
        },
        "trusted": true,
        "id": "ariWFldfSBp9"
      },
      "execution_count": null,
      "outputs": []
    },
    {
      "cell_type": "code",
      "source": [
        "# Amount by Month:\n",
        "\n",
        "plt.figure(figsize=(10, 6))\n",
        "sns.barplot(x='month',y='Amount',data=month_sum,palette='plasma')\n",
        "plt.xlabel('month')\n",
        "plt.ylabel('Amount')\n",
        "plt.title('Sales by Month')\n",
        "plt.xticks(rotation=45)\n",
        "plt.show()\n",
        "\n",
        "## April has the highest sales and March is the lowest."
      ],
      "metadata": {
        "execution": {
          "iopub.status.busy": "2024-05-09T16:04:22.070021Z",
          "iopub.execute_input": "2024-05-09T16:04:22.07048Z",
          "iopub.status.idle": "2024-05-09T16:04:22.318048Z",
          "shell.execute_reply.started": "2024-05-09T16:04:22.070444Z",
          "shell.execute_reply": "2024-05-09T16:04:22.31715Z"
        },
        "trusted": true,
        "id": "kTJ8kDHvSBp9"
      },
      "execution_count": null,
      "outputs": []
    },
    {
      "cell_type": "code",
      "source": [
        "fulfilment_sum = df.groupby('Fulfilment')['Qty'].sum().sort_values(ascending=False).reset_index()\n"
      ],
      "metadata": {
        "execution": {
          "iopub.status.busy": "2024-05-09T16:03:30.046306Z",
          "iopub.execute_input": "2024-05-09T16:03:30.047028Z",
          "iopub.status.idle": "2024-05-09T16:03:30.069711Z",
          "shell.execute_reply.started": "2024-05-09T16:03:30.046982Z",
          "shell.execute_reply": "2024-05-09T16:03:30.068838Z"
        },
        "trusted": true,
        "id": "vrtHDYvQSBp9"
      },
      "execution_count": null,
      "outputs": []
    },
    {
      "cell_type": "code",
      "source": [
        "# QTY by fulfilment method:\n",
        "\n",
        "sns.barplot(x='Fulfilment',y='Qty',data=fulfilment_sum,palette='plasma')\n",
        "plt.xlabel('fulfilment')\n",
        "plt.ylabel('Qty')\n",
        "plt.title('Fulfilment Method')\n",
        "plt.show()\n",
        "\n",
        "## QTY fulfiled by Amazon is higher than Merchant."
      ],
      "metadata": {
        "execution": {
          "iopub.status.busy": "2024-05-09T16:03:30.070953Z",
          "iopub.execute_input": "2024-05-09T16:03:30.07129Z",
          "iopub.status.idle": "2024-05-09T16:03:30.287364Z",
          "shell.execute_reply.started": "2024-05-09T16:03:30.07126Z",
          "shell.execute_reply": "2024-05-09T16:03:30.286171Z"
        },
        "trusted": true,
        "id": "Ds8lXqq0SBp9"
      },
      "execution_count": null,
      "outputs": []
    },
    {
      "cell_type": "code",
      "source": [
        "df.columns"
      ],
      "metadata": {
        "execution": {
          "iopub.status.busy": "2024-05-09T16:03:30.289459Z",
          "iopub.execute_input": "2024-05-09T16:03:30.290311Z",
          "iopub.status.idle": "2024-05-09T16:03:30.298039Z",
          "shell.execute_reply.started": "2024-05-09T16:03:30.290265Z",
          "shell.execute_reply": "2024-05-09T16:03:30.297006Z"
        },
        "trusted": true,
        "id": "SZt9B7ggSBp-"
      },
      "execution_count": null,
      "outputs": []
    },
    {
      "cell_type": "code",
      "source": [
        "# Cancelled Orders by Category:\n",
        "\n",
        "cancelled_orders=df[df['Status']=='Cancelled']\n",
        "cancelled_category=cancelled_orders.groupby('Category')['Qty'].count().sort_values(ascending=False).reset_index()\n",
        "plt.figure(figsize=(10, 6))\n",
        "plt.bar(cancelled_category['Category'], cancelled_category['Qty'], color='blue')\n",
        "plt.title('Cancellation by Category')\n",
        "plt.xlabel('Category')\n",
        "plt.ylabel('Number of Cancelled Orders')\n",
        "plt.xticks(rotation=45)\n",
        "plt.show()\n",
        "\n",
        "## Set has the highest cancellation orders the second one is Kurta and the lowest Saree."
      ],
      "metadata": {
        "execution": {
          "iopub.status.busy": "2024-05-09T16:03:30.299401Z",
          "iopub.execute_input": "2024-05-09T16:03:30.299847Z",
          "iopub.status.idle": "2024-05-09T16:03:30.620921Z",
          "shell.execute_reply.started": "2024-05-09T16:03:30.299817Z",
          "shell.execute_reply": "2024-05-09T16:03:30.619762Z"
        },
        "trusted": true,
        "id": "weqFaNzISBp-"
      },
      "execution_count": null,
      "outputs": []
    },
    {
      "cell_type": "code",
      "source": [
        "# Count of orders by status:\n",
        "\n",
        "plt.figure(figsize=(7, 5))\n",
        "sns.countplot(x='Status', data=df, palette='plasma')\n",
        "plt.title('Count of Orders by Status')\n",
        "plt.xlabel('Status')\n",
        "plt.ylabel('Count')\n",
        "plt.tight_layout()\n",
        "plt.xticks(rotation=45, ha='right')\n",
        "plt.tight_layout()\n",
        "plt.show()\n",
        "\n",
        "## Shipped orders is the highest the second one is shipped-delivered to buyer .\n"
      ],
      "metadata": {
        "execution": {
          "iopub.status.busy": "2024-05-09T16:03:30.62812Z",
          "iopub.execute_input": "2024-05-09T16:03:30.628517Z",
          "iopub.status.idle": "2024-05-09T16:03:31.18256Z",
          "shell.execute_reply.started": "2024-05-09T16:03:30.628483Z",
          "shell.execute_reply": "2024-05-09T16:03:31.18136Z"
        },
        "trusted": true,
        "id": "aZtlnvkBSBp-"
      },
      "execution_count": null,
      "outputs": []
    },
    {
      "cell_type": "code",
      "source": [
        "# Top 10 SKUS by Quantity:\n",
        "\n",
        "sku_totals = df.groupby('SKU')['Qty'].sum().reset_index()\n",
        "\n",
        "top_skus = sku_totals.nlargest(10, 'Qty')\n",
        "\n",
        "plt.figure(figsize=(10, 6))\n",
        "sns.barplot(x='SKU', y='Qty', data=top_skus, palette='plasma')\n",
        "\n",
        "plt.title('Top 10 SKU by Quantity')\n",
        "plt.xlabel('SKU')\n",
        "plt.ylabel('Total Quantity')\n",
        "\n",
        "plt.xticks(rotation=45, ha='right')\n",
        "\n",
        "plt.tight_layout()\n",
        "plt.show()\n",
        "\n",
        "## this SKU(JNE3797-K-R-L) has the highest Quantity."
      ],
      "metadata": {
        "execution": {
          "iopub.status.busy": "2024-05-09T16:03:31.184074Z",
          "iopub.execute_input": "2024-05-09T16:03:31.185206Z",
          "iopub.status.idle": "2024-05-09T16:03:31.614716Z",
          "shell.execute_reply.started": "2024-05-09T16:03:31.185155Z",
          "shell.execute_reply": "2024-05-09T16:03:31.613407Z"
        },
        "trusted": true,
        "id": "mgM1qy6ASBp-"
      },
      "execution_count": null,
      "outputs": []
    },
    {
      "cell_type": "code",
      "source": [
        "# Size-wise sales Analysis:\n",
        "\n",
        "size_sales = df.groupby('Size')['Amount'].sum().sort_values(ascending=False)\n",
        "plt.figure(figsize=(10, 6))\n",
        "size_sales.plot.bar(color='blue')\n",
        "plt.title('Size-wise Sales Analysis')\n",
        "plt.xlabel('Size')\n",
        "plt.ylabel('Total Sales')\n",
        "plt.xticks(rotation=45, ha='right')\n",
        "plt.tight_layout()\n",
        "plt.show()\n",
        "\n",
        "## M size is the best seller free size is the lowest ."
      ],
      "metadata": {
        "execution": {
          "iopub.status.busy": "2024-05-09T16:03:31.616137Z",
          "iopub.execute_input": "2024-05-09T16:03:31.616867Z",
          "iopub.status.idle": "2024-05-09T16:03:32.07063Z",
          "shell.execute_reply.started": "2024-05-09T16:03:31.616831Z",
          "shell.execute_reply": "2024-05-09T16:03:32.069751Z"
        },
        "trusted": true,
        "id": "fgmn15jCSBp_"
      },
      "execution_count": null,
      "outputs": []
    },
    {
      "cell_type": "code",
      "source": [
        "# Number of new customers over month:\n",
        "\n",
        "month_order = ['March', 'April', 'May', 'June', 'July', 'August', 'September', 'October', 'November', 'December', 'January', 'February']\n",
        "\n",
        "new_customers = df[df['Status'] == 'Shipped - Delivered to Buyer'].groupby('month')['Order ID'].nunique()\n",
        "\n",
        "new_customers = new_customers.reindex(month_order)\n",
        "\n",
        "plt.figure(figsize=(10, 6))\n",
        "sns.lineplot(x=new_customers.index, y=new_customers.values, marker='o', color='blue')\n",
        "\n",
        "\n",
        "plt.title(' New Customers Over Months')\n",
        "plt.xlabel('Month')\n",
        "plt.ylabel('Number of Unique Customers')\n",
        "\n",
        "plt.tight_layout()\n",
        "plt.show()\n",
        "\n",
        "## April is the highest month that hase new customers and March is the lowest."
      ],
      "metadata": {
        "execution": {
          "iopub.status.busy": "2024-05-09T16:03:32.07181Z",
          "iopub.execute_input": "2024-05-09T16:03:32.072807Z",
          "iopub.status.idle": "2024-05-09T16:03:32.48529Z",
          "shell.execute_reply.started": "2024-05-09T16:03:32.072776Z",
          "shell.execute_reply": "2024-05-09T16:03:32.484372Z"
        },
        "trusted": true,
        "id": "rnXjTDqCSBp_"
      },
      "execution_count": null,
      "outputs": []
    },
    {
      "cell_type": "markdown",
      "source": [
        "# Conclusion: Unveiling Insights into E-commerce Sales Trends\n",
        "\n",
        "Our analysis of the E-commerce dataset has unveiled a plethora of insights into sales trends, customer behavior, and operational dynamics within the digital marketplace. These findings provide valuable intelligence for businesses seeking to optimize their strategies and capitalize on emerging opportunities.\n",
        "\n",
        "1-B2C Outpaces B2B Sales: Our analysis reveals that B2C sales outstrip B2B transactions, underscoring the importance of catering to individual customers within the e-commerce ecosystem. Understanding the unique needs and preferences of B2C clientele can unlock new avenues for growth and revenue generation.\n",
        "\n",
        "2-Product Performance Variation: The data highlights significant variations in product performance, with \"Set\" emerging as the top performer and \"Dupatta\" lagging behind. This underscores the importance of product assortment optimization to maximize sales potential.\n",
        "\n",
        "3-Seasonal Sales Dynamics: April emerges as the peak month for sales activity, while March sees comparatively lower transaction volumes. Recognizing these seasonal fluctuations enables businesses to adjust inventory levels and marketing strategies accordingly.\n",
        "\n",
        "4-Fulfillment Insights: Orders fulfilled by Amazon surpass those handled by merchants, indicating the importance of efficient fulfillment processes in driving customer satisfaction and loyalty.\n",
        "\n",
        "5-Cancellation Patterns: \"Set\" and \"Kurta\" witness higher cancellation rates compared to \"Saree,\" highlighting potential areas for improvement in product quality or customer service.\n",
        "\n",
        "6-Order Fulfillment Channels: Shipped orders dominate the fulfillment landscape, followed by orders shipped and delivered to the buyer, emphasizing the significance of reliable shipping and delivery operations.\n",
        "\n",
        "7-SKU Performance: SKU \"JNE3797-K-R-L\" emerges as the top performer in terms of quantity sold, showcasing the importance of SKU-level analysis in identifying best-selling products.\n",
        "\n",
        "8-Size Preferences: M size emerges as the preferred size category among customers, while free size records lower sales volumes. Tailoring inventory to match customer preferences can enhance sales performance and customer satisfaction.\n",
        "\n",
        "9-New Customer Acquisition: April sees the highest influx of new customers, presenting opportunities for businesses to implement targeted marketing strategies and expand their customer base.\n",
        "\n",
        "In conclusion, these insights provide actionable intelligence for businesses operating in the e-commerce domain. By leveraging these findings, organizations can refine their product offerings, optimize fulfillment processes, and tailor marketing initiatives to drive growth and profitability in an increasingly competitive landscape.\n",
        "\n"
      ],
      "metadata": {
        "id": "8RwPWTRKSBp_"
      }
    }
  ]
}